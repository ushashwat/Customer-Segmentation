{
  "cells": [
    {
      "cell_type": "code",
      "execution_count": 2,
      "metadata": {
        "colab": {
          "base_uri": "https://localhost:8080/"
        },
        "id": "AkLzpYtW3UoQ",
        "outputId": "fe6df85d-7624-4049-e4e8-c87e5c9e22f7"
      },
      "outputs": [
        {
          "name": "stdout",
          "output_type": "stream",
          "text": [
            "Looking in indexes: https://pypi.org/simple, https://us-python.pkg.dev/colab-wheels/public/simple/\n",
            "Collecting scikit-multilearn\n",
            "  Downloading scikit_multilearn-0.2.0-py3-none-any.whl (89 kB)\n",
            "\u001b[K     |████████████████████████████████| 89 kB 4.4 MB/s \n",
            "\u001b[?25hInstalling collected packages: scikit-multilearn\n",
            "Successfully installed scikit-multilearn-0.2.0\n"
          ]
        }
      ],
      "source": [
        "# Install scikit-multilearn, a library for multi-label classification\n",
        "!pip install scikit-multilearn"
      ]
    },
    {
      "cell_type": "code",
      "execution_count": 3,
      "metadata": {
        "id": "ptHBVe2rOCTS"
      },
      "outputs": [],
      "source": [
        "import pandas as pd\n",
        "import numpy as np\n",
        "from matplotlib import pyplot as plt\n",
        "import seaborn as sns\n",
        "import itertools\n",
        "\n",
        "from skmultilearn.model_selection import iterative_train_test_split\n",
        "from sklearn.preprocessing import OneHotEncoder\n",
        "from sklearn.model_selection import RandomizedSearchCV\n",
        "from sklearn.tree import DecisionTreeClassifier\n",
        "from sklearn.metrics import classification_report, multilabel_confusion_matrix, hamming_loss, zero_one_loss, accuracy_score\n",
        "from sklearn.pipeline import Pipeline\n",
        "from sklearn.multiclass import OneVsRestClassifier\n",
        "from sklearn.multioutput import MultiOutputClassifier"
      ]
    },
    {
      "cell_type": "markdown",
      "metadata": {
        "id": "KLDgLz-Q1f3e"
      },
      "source": [
        "## Data exploration\n",
        "\n",
        "The given datasets were combined together to create a joined dataset which is imported into this notebook."
      ]
    },
    {
      "cell_type": "code",
      "execution_count": 4,
      "metadata": {
        "colab": {
          "base_uri": "https://localhost:8080/",
          "height": 696
        },
        "id": "tcbQDyt-EAAV",
        "outputId": "a47366a7-56be-4388-cf43-b686bd18a5eb"
      },
      "outputs": [
        {
          "data": {
            "text/html": [
              "\n",
              "  <div id=\"df-1abb8c5a-f472-44d9-a074-7635447d4666\">\n",
              "    <div class=\"colab-df-container\">\n",
              "      <div>\n",
              "<style scoped>\n",
              "    .dataframe tbody tr th:only-of-type {\n",
              "        vertical-align: middle;\n",
              "    }\n",
              "\n",
              "    .dataframe tbody tr th {\n",
              "        vertical-align: top;\n",
              "    }\n",
              "\n",
              "    .dataframe thead th {\n",
              "        text-align: right;\n",
              "    }\n",
              "</style>\n",
              "<table border=\"1\" class=\"dataframe\">\n",
              "  <thead>\n",
              "    <tr style=\"text-align: right;\">\n",
              "      <th></th>\n",
              "      <th>POLICY_NUMBER</th>\n",
              "      <th>START_DATE</th>\n",
              "      <th>END_DATE</th>\n",
              "      <th>POLICY_STATUS</th>\n",
              "      <th>PREMIUM</th>\n",
              "      <th>NUMBER_OF_DRIVERS</th>\n",
              "      <th>PAYMENTMETHOD</th>\n",
              "      <th>VEHICLE_ID</th>\n",
              "      <th>CUSTOMER_ID</th>\n",
              "      <th>MARITALSTATUS</th>\n",
              "      <th>...</th>\n",
              "      <th>CLAIM_ID</th>\n",
              "      <th>INCURRED</th>\n",
              "      <th>SEGMENT_1_FLAG</th>\n",
              "      <th>SEGMENT_2_FLAG</th>\n",
              "      <th>SEGMENT_3_FLAG</th>\n",
              "      <th>SEGMENT_4_FLAG</th>\n",
              "      <th>SEGMENT_5_FLAG</th>\n",
              "      <th>SEGMENT_6_FLAG</th>\n",
              "      <th>Age</th>\n",
              "      <th>Age_group</th>\n",
              "    </tr>\n",
              "  </thead>\n",
              "  <tbody>\n",
              "    <tr>\n",
              "      <th>0</th>\n",
              "      <td>6.495726e+09</td>\n",
              "      <td>2021-02-01 00:00:00</td>\n",
              "      <td>2022-01-31 00:00:00</td>\n",
              "      <td>Renewal</td>\n",
              "      <td>370.401518</td>\n",
              "      <td>2.0</td>\n",
              "      <td>NaN</td>\n",
              "      <td>vehicle70018R</td>\n",
              "      <td>customer17135R</td>\n",
              "      <td>Single</td>\n",
              "      <td>...</td>\n",
              "      <td>claim458112</td>\n",
              "      <td>79.462299</td>\n",
              "      <td>NaN</td>\n",
              "      <td>NaN</td>\n",
              "      <td>NaN</td>\n",
              "      <td>NaN</td>\n",
              "      <td>NaN</td>\n",
              "      <td>NaN</td>\n",
              "      <td>28.0</td>\n",
              "      <td>26-35</td>\n",
              "    </tr>\n",
              "    <tr>\n",
              "      <th>1</th>\n",
              "      <td>6.495726e+09</td>\n",
              "      <td>2020-02-01</td>\n",
              "      <td>2021-01-31</td>\n",
              "      <td>New Business</td>\n",
              "      <td>369.137312</td>\n",
              "      <td>2.0</td>\n",
              "      <td>NaN</td>\n",
              "      <td>vehicle70018</td>\n",
              "      <td>customer17135</td>\n",
              "      <td>Single</td>\n",
              "      <td>...</td>\n",
              "      <td>claim458112</td>\n",
              "      <td>79.462299</td>\n",
              "      <td>0.0</td>\n",
              "      <td>0.0</td>\n",
              "      <td>0.0</td>\n",
              "      <td>0.0</td>\n",
              "      <td>0.0</td>\n",
              "      <td>0.0</td>\n",
              "      <td>28.0</td>\n",
              "      <td>26-35</td>\n",
              "    </tr>\n",
              "    <tr>\n",
              "      <th>2</th>\n",
              "      <td>6.495676e+09</td>\n",
              "      <td>2020-10-17</td>\n",
              "      <td>2021-10-16</td>\n",
              "      <td>New Business</td>\n",
              "      <td>142.969466</td>\n",
              "      <td>2.0</td>\n",
              "      <td>NaN</td>\n",
              "      <td>vehicle37044</td>\n",
              "      <td>customer115167</td>\n",
              "      <td>Married</td>\n",
              "      <td>...</td>\n",
              "      <td>claim361411</td>\n",
              "      <td>89.241458</td>\n",
              "      <td>0.0</td>\n",
              "      <td>0.0</td>\n",
              "      <td>0.0</td>\n",
              "      <td>0.0</td>\n",
              "      <td>0.0</td>\n",
              "      <td>0.0</td>\n",
              "      <td>61.0</td>\n",
              "      <td>56-65</td>\n",
              "    </tr>\n",
              "    <tr>\n",
              "      <th>3</th>\n",
              "      <td>6.495813e+09</td>\n",
              "      <td>2020-06-11</td>\n",
              "      <td>2021-06-10</td>\n",
              "      <td>New Business</td>\n",
              "      <td>244.005751</td>\n",
              "      <td>1.0</td>\n",
              "      <td>NaN</td>\n",
              "      <td>vehicle197044</td>\n",
              "      <td>customer171987</td>\n",
              "      <td>Single</td>\n",
              "      <td>...</td>\n",
              "      <td>NaN</td>\n",
              "      <td>NaN</td>\n",
              "      <td>0.0</td>\n",
              "      <td>0.0</td>\n",
              "      <td>0.0</td>\n",
              "      <td>0.0</td>\n",
              "      <td>0.0</td>\n",
              "      <td>0.0</td>\n",
              "      <td>34.0</td>\n",
              "      <td>26-35</td>\n",
              "    </tr>\n",
              "    <tr>\n",
              "      <th>4</th>\n",
              "      <td>6.495567e+09</td>\n",
              "      <td>2020-06-15 00:00:00</td>\n",
              "      <td>2021-06-14 00:00:00</td>\n",
              "      <td>Renewal</td>\n",
              "      <td>412.400710</td>\n",
              "      <td>2.0</td>\n",
              "      <td>NaN</td>\n",
              "      <td>vehicle39531R</td>\n",
              "      <td>customer79839R</td>\n",
              "      <td>CommonLaw</td>\n",
              "      <td>...</td>\n",
              "      <td>NaN</td>\n",
              "      <td>NaN</td>\n",
              "      <td>NaN</td>\n",
              "      <td>NaN</td>\n",
              "      <td>NaN</td>\n",
              "      <td>NaN</td>\n",
              "      <td>NaN</td>\n",
              "      <td>NaN</td>\n",
              "      <td>31.0</td>\n",
              "      <td>26-35</td>\n",
              "    </tr>\n",
              "    <tr>\n",
              "      <th>...</th>\n",
              "      <td>...</td>\n",
              "      <td>...</td>\n",
              "      <td>...</td>\n",
              "      <td>...</td>\n",
              "      <td>...</td>\n",
              "      <td>...</td>\n",
              "      <td>...</td>\n",
              "      <td>...</td>\n",
              "      <td>...</td>\n",
              "      <td>...</td>\n",
              "      <td>...</td>\n",
              "      <td>...</td>\n",
              "      <td>...</td>\n",
              "      <td>...</td>\n",
              "      <td>...</td>\n",
              "      <td>...</td>\n",
              "      <td>...</td>\n",
              "      <td>...</td>\n",
              "      <td>...</td>\n",
              "      <td>...</td>\n",
              "      <td>...</td>\n",
              "    </tr>\n",
              "    <tr>\n",
              "      <th>90195</th>\n",
              "      <td>6.495733e+09</td>\n",
              "      <td>2020-02-06</td>\n",
              "      <td>2021-02-05</td>\n",
              "      <td>New Business</td>\n",
              "      <td>126.539718</td>\n",
              "      <td>2.0</td>\n",
              "      <td>NaN</td>\n",
              "      <td>vehicle62048</td>\n",
              "      <td>customer273560</td>\n",
              "      <td>Married</td>\n",
              "      <td>...</td>\n",
              "      <td>NaN</td>\n",
              "      <td>NaN</td>\n",
              "      <td>0.0</td>\n",
              "      <td>0.0</td>\n",
              "      <td>0.0</td>\n",
              "      <td>0.0</td>\n",
              "      <td>0.0</td>\n",
              "      <td>0.0</td>\n",
              "      <td>41.0</td>\n",
              "      <td>36-45</td>\n",
              "    </tr>\n",
              "    <tr>\n",
              "      <th>90196</th>\n",
              "      <td>6.495345e+09</td>\n",
              "      <td>2018-10-20</td>\n",
              "      <td>2019-10-19</td>\n",
              "      <td>New Business</td>\n",
              "      <td>171.775478</td>\n",
              "      <td>2.0</td>\n",
              "      <td>NaN</td>\n",
              "      <td>vehicle96992</td>\n",
              "      <td>customer242805</td>\n",
              "      <td>CommonLaw</td>\n",
              "      <td>...</td>\n",
              "      <td>NaN</td>\n",
              "      <td>NaN</td>\n",
              "      <td>0.0</td>\n",
              "      <td>0.0</td>\n",
              "      <td>0.0</td>\n",
              "      <td>0.0</td>\n",
              "      <td>0.0</td>\n",
              "      <td>0.0</td>\n",
              "      <td>50.0</td>\n",
              "      <td>46-55</td>\n",
              "    </tr>\n",
              "    <tr>\n",
              "      <th>90197</th>\n",
              "      <td>6.495719e+09</td>\n",
              "      <td>2019-12-27</td>\n",
              "      <td>2020-12-26</td>\n",
              "      <td>New Business</td>\n",
              "      <td>275.025662</td>\n",
              "      <td>1.0</td>\n",
              "      <td>NaN</td>\n",
              "      <td>vehicle68360</td>\n",
              "      <td>customer270050</td>\n",
              "      <td>Single</td>\n",
              "      <td>...</td>\n",
              "      <td>NaN</td>\n",
              "      <td>NaN</td>\n",
              "      <td>0.0</td>\n",
              "      <td>0.0</td>\n",
              "      <td>0.0</td>\n",
              "      <td>0.0</td>\n",
              "      <td>0.0</td>\n",
              "      <td>0.0</td>\n",
              "      <td>31.0</td>\n",
              "      <td>26-35</td>\n",
              "    </tr>\n",
              "    <tr>\n",
              "      <th>90198</th>\n",
              "      <td>6.495427e+09</td>\n",
              "      <td>2019-02-22</td>\n",
              "      <td>2020-02-21</td>\n",
              "      <td>New Business</td>\n",
              "      <td>232.072537</td>\n",
              "      <td>1.0</td>\n",
              "      <td>NaN</td>\n",
              "      <td>vehicle186506</td>\n",
              "      <td>customer53930</td>\n",
              "      <td>Married</td>\n",
              "      <td>...</td>\n",
              "      <td>NaN</td>\n",
              "      <td>NaN</td>\n",
              "      <td>0.0</td>\n",
              "      <td>1.0</td>\n",
              "      <td>0.0</td>\n",
              "      <td>0.0</td>\n",
              "      <td>0.0</td>\n",
              "      <td>0.0</td>\n",
              "      <td>50.0</td>\n",
              "      <td>46-55</td>\n",
              "    </tr>\n",
              "    <tr>\n",
              "      <th>90199</th>\n",
              "      <td>6.495920e+09</td>\n",
              "      <td>2021-01-03</td>\n",
              "      <td>2022-01-02</td>\n",
              "      <td>New Business</td>\n",
              "      <td>120.339028</td>\n",
              "      <td>2.0</td>\n",
              "      <td>NaN</td>\n",
              "      <td>vehicle189187</td>\n",
              "      <td>customer107848</td>\n",
              "      <td>Married</td>\n",
              "      <td>...</td>\n",
              "      <td>NaN</td>\n",
              "      <td>NaN</td>\n",
              "      <td>0.0</td>\n",
              "      <td>0.0</td>\n",
              "      <td>0.0</td>\n",
              "      <td>0.0</td>\n",
              "      <td>0.0</td>\n",
              "      <td>0.0</td>\n",
              "      <td>57.0</td>\n",
              "      <td>56-65</td>\n",
              "    </tr>\n",
              "  </tbody>\n",
              "</table>\n",
              "<p>90200 rows × 29 columns</p>\n",
              "</div>\n",
              "      <button class=\"colab-df-convert\" onclick=\"convertToInteractive('df-1abb8c5a-f472-44d9-a074-7635447d4666')\"\n",
              "              title=\"Convert this dataframe to an interactive table.\"\n",
              "              style=\"display:none;\">\n",
              "        \n",
              "  <svg xmlns=\"http://www.w3.org/2000/svg\" height=\"24px\"viewBox=\"0 0 24 24\"\n",
              "       width=\"24px\">\n",
              "    <path d=\"M0 0h24v24H0V0z\" fill=\"none\"/>\n",
              "    <path d=\"M18.56 5.44l.94 2.06.94-2.06 2.06-.94-2.06-.94-.94-2.06-.94 2.06-2.06.94zm-11 1L8.5 8.5l.94-2.06 2.06-.94-2.06-.94L8.5 2.5l-.94 2.06-2.06.94zm10 10l.94 2.06.94-2.06 2.06-.94-2.06-.94-.94-2.06-.94 2.06-2.06.94z\"/><path d=\"M17.41 7.96l-1.37-1.37c-.4-.4-.92-.59-1.43-.59-.52 0-1.04.2-1.43.59L10.3 9.45l-7.72 7.72c-.78.78-.78 2.05 0 2.83L4 21.41c.39.39.9.59 1.41.59.51 0 1.02-.2 1.41-.59l7.78-7.78 2.81-2.81c.8-.78.8-2.07 0-2.86zM5.41 20L4 18.59l7.72-7.72 1.47 1.35L5.41 20z\"/>\n",
              "  </svg>\n",
              "      </button>\n",
              "      \n",
              "  <style>\n",
              "    .colab-df-container {\n",
              "      display:flex;\n",
              "      flex-wrap:wrap;\n",
              "      gap: 12px;\n",
              "    }\n",
              "\n",
              "    .colab-df-convert {\n",
              "      background-color: #E8F0FE;\n",
              "      border: none;\n",
              "      border-radius: 50%;\n",
              "      cursor: pointer;\n",
              "      display: none;\n",
              "      fill: #1967D2;\n",
              "      height: 32px;\n",
              "      padding: 0 0 0 0;\n",
              "      width: 32px;\n",
              "    }\n",
              "\n",
              "    .colab-df-convert:hover {\n",
              "      background-color: #E2EBFA;\n",
              "      box-shadow: 0px 1px 2px rgba(60, 64, 67, 0.3), 0px 1px 3px 1px rgba(60, 64, 67, 0.15);\n",
              "      fill: #174EA6;\n",
              "    }\n",
              "\n",
              "    [theme=dark] .colab-df-convert {\n",
              "      background-color: #3B4455;\n",
              "      fill: #D2E3FC;\n",
              "    }\n",
              "\n",
              "    [theme=dark] .colab-df-convert:hover {\n",
              "      background-color: #434B5C;\n",
              "      box-shadow: 0px 1px 3px 1px rgba(0, 0, 0, 0.15);\n",
              "      filter: drop-shadow(0px 1px 2px rgba(0, 0, 0, 0.3));\n",
              "      fill: #FFFFFF;\n",
              "    }\n",
              "  </style>\n",
              "\n",
              "      <script>\n",
              "        const buttonEl =\n",
              "          document.querySelector('#df-1abb8c5a-f472-44d9-a074-7635447d4666 button.colab-df-convert');\n",
              "        buttonEl.style.display =\n",
              "          google.colab.kernel.accessAllowed ? 'block' : 'none';\n",
              "\n",
              "        async function convertToInteractive(key) {\n",
              "          const element = document.querySelector('#df-1abb8c5a-f472-44d9-a074-7635447d4666');\n",
              "          const dataTable =\n",
              "            await google.colab.kernel.invokeFunction('convertToInteractive',\n",
              "                                                     [key], {});\n",
              "          if (!dataTable) return;\n",
              "\n",
              "          const docLinkHtml = 'Like what you see? Visit the ' +\n",
              "            '<a target=\"_blank\" href=https://colab.research.google.com/notebooks/data_table.ipynb>data table notebook</a>'\n",
              "            + ' to learn more about interactive tables.';\n",
              "          element.innerHTML = '';\n",
              "          dataTable['output_type'] = 'display_data';\n",
              "          await google.colab.output.renderOutput(dataTable, element);\n",
              "          const docLink = document.createElement('div');\n",
              "          docLink.innerHTML = docLinkHtml;\n",
              "          element.appendChild(docLink);\n",
              "        }\n",
              "      </script>\n",
              "    </div>\n",
              "  </div>\n",
              "  "
            ],
            "text/plain": [
              "       POLICY_NUMBER           START_DATE             END_DATE POLICY_STATUS  \\\n",
              "0       6.495726e+09  2021-02-01 00:00:00  2022-01-31 00:00:00       Renewal   \n",
              "1       6.495726e+09           2020-02-01           2021-01-31  New Business   \n",
              "2       6.495676e+09           2020-10-17           2021-10-16  New Business   \n",
              "3       6.495813e+09           2020-06-11           2021-06-10  New Business   \n",
              "4       6.495567e+09  2020-06-15 00:00:00  2021-06-14 00:00:00       Renewal   \n",
              "...              ...                  ...                  ...           ...   \n",
              "90195   6.495733e+09           2020-02-06           2021-02-05  New Business   \n",
              "90196   6.495345e+09           2018-10-20           2019-10-19  New Business   \n",
              "90197   6.495719e+09           2019-12-27           2020-12-26  New Business   \n",
              "90198   6.495427e+09           2019-02-22           2020-02-21  New Business   \n",
              "90199   6.495920e+09           2021-01-03           2022-01-02  New Business   \n",
              "\n",
              "          PREMIUM  NUMBER_OF_DRIVERS PAYMENTMETHOD     VEHICLE_ID  \\\n",
              "0      370.401518                2.0           NaN  vehicle70018R   \n",
              "1      369.137312                2.0           NaN   vehicle70018   \n",
              "2      142.969466                2.0           NaN   vehicle37044   \n",
              "3      244.005751                1.0           NaN  vehicle197044   \n",
              "4      412.400710                2.0           NaN  vehicle39531R   \n",
              "...           ...                ...           ...            ...   \n",
              "90195  126.539718                2.0           NaN   vehicle62048   \n",
              "90196  171.775478                2.0           NaN   vehicle96992   \n",
              "90197  275.025662                1.0           NaN   vehicle68360   \n",
              "90198  232.072537                1.0           NaN  vehicle186506   \n",
              "90199  120.339028                2.0           NaN  vehicle189187   \n",
              "\n",
              "          CUSTOMER_ID MARITALSTATUS  ...     CLAIM_ID   INCURRED  \\\n",
              "0      customer17135R        Single  ...  claim458112  79.462299   \n",
              "1       customer17135        Single  ...  claim458112  79.462299   \n",
              "2      customer115167       Married  ...  claim361411  89.241458   \n",
              "3      customer171987        Single  ...          NaN        NaN   \n",
              "4      customer79839R     CommonLaw  ...          NaN        NaN   \n",
              "...               ...           ...  ...          ...        ...   \n",
              "90195  customer273560       Married  ...          NaN        NaN   \n",
              "90196  customer242805     CommonLaw  ...          NaN        NaN   \n",
              "90197  customer270050        Single  ...          NaN        NaN   \n",
              "90198   customer53930       Married  ...          NaN        NaN   \n",
              "90199  customer107848       Married  ...          NaN        NaN   \n",
              "\n",
              "      SEGMENT_1_FLAG SEGMENT_2_FLAG  SEGMENT_3_FLAG  SEGMENT_4_FLAG  \\\n",
              "0                NaN            NaN             NaN             NaN   \n",
              "1                0.0            0.0             0.0             0.0   \n",
              "2                0.0            0.0             0.0             0.0   \n",
              "3                0.0            0.0             0.0             0.0   \n",
              "4                NaN            NaN             NaN             NaN   \n",
              "...              ...            ...             ...             ...   \n",
              "90195            0.0            0.0             0.0             0.0   \n",
              "90196            0.0            0.0             0.0             0.0   \n",
              "90197            0.0            0.0             0.0             0.0   \n",
              "90198            0.0            1.0             0.0             0.0   \n",
              "90199            0.0            0.0             0.0             0.0   \n",
              "\n",
              "       SEGMENT_5_FLAG  SEGMENT_6_FLAG   Age Age_group  \n",
              "0                 NaN             NaN  28.0     26-35  \n",
              "1                 0.0             0.0  28.0     26-35  \n",
              "2                 0.0             0.0  61.0     56-65  \n",
              "3                 0.0             0.0  34.0     26-35  \n",
              "4                 NaN             NaN  31.0     26-35  \n",
              "...               ...             ...   ...       ...  \n",
              "90195             0.0             0.0  41.0     36-45  \n",
              "90196             0.0             0.0  50.0     46-55  \n",
              "90197             0.0             0.0  31.0     26-35  \n",
              "90198             0.0             0.0  50.0     46-55  \n",
              "90199             0.0             0.0  57.0     56-65  \n",
              "\n",
              "[90200 rows x 29 columns]"
            ]
          },
          "execution_count": 4,
          "metadata": {},
          "output_type": "execute_result"
        }
      ],
      "source": [
        "# Read the joined dataset\n",
        "df = pd.read_csv('combined_df.csv')\n",
        "df"
      ]
    },
    {
      "cell_type": "markdown",
      "metadata": {
        "id": "XUCoxnx-AW7H"
      },
      "source": [
        "The data types of each column is checked to get an idea of the numerical and categorical columns present in the data frame."
      ]
    },
    {
      "cell_type": "code",
      "execution_count": 5,
      "metadata": {
        "colab": {
          "base_uri": "https://localhost:8080/"
        },
        "id": "XiRIsc9aAtAp",
        "outputId": "8d2306cb-4364-47b8-83b7-7ff3e2720518"
      },
      "outputs": [
        {
          "data": {
            "text/plain": [
              "POLICY_NUMBER            float64\n",
              "START_DATE                object\n",
              "END_DATE                  object\n",
              "POLICY_STATUS             object\n",
              "PREMIUM                  float64\n",
              "NUMBER_OF_DRIVERS        float64\n",
              "PAYMENTMETHOD             object\n",
              "VEHICLE_ID                object\n",
              "CUSTOMER_ID               object\n",
              "MARITALSTATUS             object\n",
              "DATE_OF_BIRTH             object\n",
              "NCD                      float64\n",
              "EMPLOYMENTTYPE            object\n",
              "VEHICLE_CLASSOFUSE        object\n",
              "VEHICLE_VALUE            float64\n",
              "VEHICLE_AGE              float64\n",
              "VEHICLE_ANNUALMILEAGE    float64\n",
              "VEHICLE_OWNEDMONTHS      float64\n",
              "DATE_OF_ACCIDENT          object\n",
              "CLAIM_ID                  object\n",
              "INCURRED                 float64\n",
              "SEGMENT_1_FLAG           float64\n",
              "SEGMENT_2_FLAG           float64\n",
              "SEGMENT_3_FLAG           float64\n",
              "SEGMENT_4_FLAG           float64\n",
              "SEGMENT_5_FLAG           float64\n",
              "SEGMENT_6_FLAG           float64\n",
              "Age                      float64\n",
              "Age_group                 object\n",
              "dtype: object"
            ]
          },
          "execution_count": 5,
          "metadata": {},
          "output_type": "execute_result"
        }
      ],
      "source": [
        "# Check the data types for each column\n",
        "df.dtypes"
      ]
    },
    {
      "cell_type": "markdown",
      "metadata": {
        "id": "b7gMTqoSAijv"
      },
      "source": [
        "Replace empty values with NaNs and check for the percentage of null values in each column."
      ]
    },
    {
      "cell_type": "code",
      "execution_count": 6,
      "metadata": {
        "id": "DD6D8_cZMGAs"
      },
      "outputs": [],
      "source": [
        "# Replace empty values (if any) with NaN\n",
        "df[df.loc[:,:] == ' '] = np.NaN"
      ]
    },
    {
      "cell_type": "code",
      "execution_count": 7,
      "metadata": {
        "colab": {
          "base_uri": "https://localhost:8080/"
        },
        "id": "CP395iGhMJEl",
        "outputId": "926931ca-fe39-4c87-e40d-a4f69e978a0b"
      },
      "outputs": [
        {
          "data": {
            "text/plain": [
              "POLICY_NUMBER             0.000000\n",
              "START_DATE                0.000000\n",
              "END_DATE                  0.000000\n",
              "POLICY_STATUS             0.000000\n",
              "PREMIUM                   0.106430\n",
              "NUMBER_OF_DRIVERS         0.113082\n",
              "PAYMENTMETHOD            67.175166\n",
              "VEHICLE_ID                0.000000\n",
              "CUSTOMER_ID               0.000000\n",
              "MARITALSTATUS             0.074279\n",
              "DATE_OF_BIRTH             0.032151\n",
              "NCD                       0.000000\n",
              "EMPLOYMENTTYPE            0.063193\n",
              "VEHICLE_CLASSOFUSE        0.000000\n",
              "VEHICLE_VALUE             0.000000\n",
              "VEHICLE_AGE               0.000000\n",
              "VEHICLE_ANNUALMILEAGE     0.000000\n",
              "VEHICLE_OWNEDMONTHS       0.000000\n",
              "DATE_OF_ACCIDENT         84.980044\n",
              "CLAIM_ID                 84.963415\n",
              "INCURRED                 84.990022\n",
              "SEGMENT_1_FLAG           17.129712\n",
              "SEGMENT_2_FLAG           17.184035\n",
              "SEGMENT_3_FLAG           17.124169\n",
              "SEGMENT_4_FLAG           17.151885\n",
              "SEGMENT_5_FLAG           17.174058\n",
              "SEGMENT_6_FLAG           17.137472\n",
              "Age                       0.032151\n",
              "Age_group                 0.032151\n",
              "dtype: float64"
            ]
          },
          "execution_count": 7,
          "metadata": {},
          "output_type": "execute_result"
        }
      ],
      "source": [
        "# Check NaN percentage in each column\n",
        "df.isna().sum()/len(df) * 100"
      ]
    },
    {
      "cell_type": "markdown",
      "metadata": {
        "id": "E_na3RiwAxmW"
      },
      "source": [
        "Display a statistical summary of the numerical columns to find outliers."
      ]
    },
    {
      "cell_type": "code",
      "execution_count": 8,
      "metadata": {
        "colab": {
          "base_uri": "https://localhost:8080/",
          "height": 364
        },
        "id": "XmFJfEpMNqsr",
        "outputId": "b608e124-20a8-41e3-8d9f-f6160445d5bd"
      },
      "outputs": [
        {
          "data": {
            "text/html": [
              "\n",
              "  <div id=\"df-08ef5f12-9a17-423b-bf81-e689477b84e4\">\n",
              "    <div class=\"colab-df-container\">\n",
              "      <div>\n",
              "<style scoped>\n",
              "    .dataframe tbody tr th:only-of-type {\n",
              "        vertical-align: middle;\n",
              "    }\n",
              "\n",
              "    .dataframe tbody tr th {\n",
              "        vertical-align: top;\n",
              "    }\n",
              "\n",
              "    .dataframe thead th {\n",
              "        text-align: right;\n",
              "    }\n",
              "</style>\n",
              "<table border=\"1\" class=\"dataframe\">\n",
              "  <thead>\n",
              "    <tr style=\"text-align: right;\">\n",
              "      <th></th>\n",
              "      <th>POLICY_NUMBER</th>\n",
              "      <th>PREMIUM</th>\n",
              "      <th>NUMBER_OF_DRIVERS</th>\n",
              "      <th>NCD</th>\n",
              "      <th>VEHICLE_VALUE</th>\n",
              "      <th>VEHICLE_AGE</th>\n",
              "      <th>VEHICLE_ANNUALMILEAGE</th>\n",
              "      <th>VEHICLE_OWNEDMONTHS</th>\n",
              "      <th>INCURRED</th>\n",
              "      <th>SEGMENT_1_FLAG</th>\n",
              "      <th>SEGMENT_2_FLAG</th>\n",
              "      <th>SEGMENT_3_FLAG</th>\n",
              "      <th>SEGMENT_4_FLAG</th>\n",
              "      <th>SEGMENT_5_FLAG</th>\n",
              "      <th>SEGMENT_6_FLAG</th>\n",
              "      <th>Age</th>\n",
              "    </tr>\n",
              "  </thead>\n",
              "  <tbody>\n",
              "    <tr>\n",
              "      <th>count</th>\n",
              "      <td>9.020000e+04</td>\n",
              "      <td>90104.000000</td>\n",
              "      <td>90098.000000</td>\n",
              "      <td>90200.000000</td>\n",
              "      <td>90200.000000</td>\n",
              "      <td>90200.000000</td>\n",
              "      <td>90200.000000</td>\n",
              "      <td>90200.000000</td>\n",
              "      <td>13539.000000</td>\n",
              "      <td>74749.000000</td>\n",
              "      <td>74700.000000</td>\n",
              "      <td>74754.000000</td>\n",
              "      <td>74729.000000</td>\n",
              "      <td>74709.000000</td>\n",
              "      <td>74742.000000</td>\n",
              "      <td>90171.000000</td>\n",
              "    </tr>\n",
              "    <tr>\n",
              "      <th>mean</th>\n",
              "      <td>6.495698e+09</td>\n",
              "      <td>262.944152</td>\n",
              "      <td>1.601046</td>\n",
              "      <td>7.155067</td>\n",
              "      <td>5233.136282</td>\n",
              "      <td>9.796275</td>\n",
              "      <td>7057.624008</td>\n",
              "      <td>50.043348</td>\n",
              "      <td>2130.809081</td>\n",
              "      <td>0.126236</td>\n",
              "      <td>0.036908</td>\n",
              "      <td>0.019103</td>\n",
              "      <td>0.018360</td>\n",
              "      <td>0.051774</td>\n",
              "      <td>0.088531</td>\n",
              "      <td>47.455180</td>\n",
              "    </tr>\n",
              "    <tr>\n",
              "      <th>std</th>\n",
              "      <td>1.866327e+05</td>\n",
              "      <td>142.601210</td>\n",
              "      <td>0.606839</td>\n",
              "      <td>2.683235</td>\n",
              "      <td>5018.882563</td>\n",
              "      <td>4.368040</td>\n",
              "      <td>3426.182359</td>\n",
              "      <td>36.441472</td>\n",
              "      <td>6955.893205</td>\n",
              "      <td>0.332117</td>\n",
              "      <td>0.188536</td>\n",
              "      <td>0.136887</td>\n",
              "      <td>0.134249</td>\n",
              "      <td>0.221572</td>\n",
              "      <td>0.284068</td>\n",
              "      <td>14.693523</td>\n",
              "    </tr>\n",
              "    <tr>\n",
              "      <th>min</th>\n",
              "      <td>6.495186e+09</td>\n",
              "      <td>28.802259</td>\n",
              "      <td>1.000000</td>\n",
              "      <td>0.000000</td>\n",
              "      <td>0.000000</td>\n",
              "      <td>0.000000</td>\n",
              "      <td>0.000000</td>\n",
              "      <td>0.000000</td>\n",
              "      <td>-211.627233</td>\n",
              "      <td>0.000000</td>\n",
              "      <td>0.000000</td>\n",
              "      <td>0.000000</td>\n",
              "      <td>0.000000</td>\n",
              "      <td>0.000000</td>\n",
              "      <td>0.000000</td>\n",
              "      <td>17.000000</td>\n",
              "    </tr>\n",
              "    <tr>\n",
              "      <th>25%</th>\n",
              "      <td>6.495545e+09</td>\n",
              "      <td>163.050237</td>\n",
              "      <td>1.000000</td>\n",
              "      <td>5.000000</td>\n",
              "      <td>1947.561151</td>\n",
              "      <td>7.000000</td>\n",
              "      <td>4985.951079</td>\n",
              "      <td>24.000000</td>\n",
              "      <td>10.015530</td>\n",
              "      <td>0.000000</td>\n",
              "      <td>0.000000</td>\n",
              "      <td>0.000000</td>\n",
              "      <td>0.000000</td>\n",
              "      <td>0.000000</td>\n",
              "      <td>0.000000</td>\n",
              "      <td>36.000000</td>\n",
              "    </tr>\n",
              "    <tr>\n",
              "      <th>50%</th>\n",
              "      <td>6.495715e+09</td>\n",
              "      <td>219.813922</td>\n",
              "      <td>2.000000</td>\n",
              "      <td>9.000000</td>\n",
              "      <td>3885.749063</td>\n",
              "      <td>10.000000</td>\n",
              "      <td>6973.253877</td>\n",
              "      <td>41.000000</td>\n",
              "      <td>96.941428</td>\n",
              "      <td>0.000000</td>\n",
              "      <td>0.000000</td>\n",
              "      <td>0.000000</td>\n",
              "      <td>0.000000</td>\n",
              "      <td>0.000000</td>\n",
              "      <td>0.000000</td>\n",
              "      <td>47.000000</td>\n",
              "    </tr>\n",
              "    <tr>\n",
              "      <th>75%</th>\n",
              "      <td>6.495843e+09</td>\n",
              "      <td>317.041031</td>\n",
              "      <td>2.000000</td>\n",
              "      <td>9.000000</td>\n",
              "      <td>6985.598131</td>\n",
              "      <td>13.000000</td>\n",
              "      <td>9973.989271</td>\n",
              "      <td>67.000000</td>\n",
              "      <td>2078.086851</td>\n",
              "      <td>0.000000</td>\n",
              "      <td>0.000000</td>\n",
              "      <td>0.000000</td>\n",
              "      <td>0.000000</td>\n",
              "      <td>0.000000</td>\n",
              "      <td>0.000000</td>\n",
              "      <td>58.000000</td>\n",
              "    </tr>\n",
              "    <tr>\n",
              "      <th>max</th>\n",
              "      <td>6.496022e+09</td>\n",
              "      <td>2287.951049</td>\n",
              "      <td>7.000000</td>\n",
              "      <td>9.000000</td>\n",
              "      <td>75014.190770</td>\n",
              "      <td>34.000000</td>\n",
              "      <td>128014.035124</td>\n",
              "      <td>322.000000</td>\n",
              "      <td>275280.578552</td>\n",
              "      <td>1.000000</td>\n",
              "      <td>1.000000</td>\n",
              "      <td>1.000000</td>\n",
              "      <td>1.000000</td>\n",
              "      <td>1.000000</td>\n",
              "      <td>1.000000</td>\n",
              "      <td>89.000000</td>\n",
              "    </tr>\n",
              "  </tbody>\n",
              "</table>\n",
              "</div>\n",
              "      <button class=\"colab-df-convert\" onclick=\"convertToInteractive('df-08ef5f12-9a17-423b-bf81-e689477b84e4')\"\n",
              "              title=\"Convert this dataframe to an interactive table.\"\n",
              "              style=\"display:none;\">\n",
              "        \n",
              "  <svg xmlns=\"http://www.w3.org/2000/svg\" height=\"24px\"viewBox=\"0 0 24 24\"\n",
              "       width=\"24px\">\n",
              "    <path d=\"M0 0h24v24H0V0z\" fill=\"none\"/>\n",
              "    <path d=\"M18.56 5.44l.94 2.06.94-2.06 2.06-.94-2.06-.94-.94-2.06-.94 2.06-2.06.94zm-11 1L8.5 8.5l.94-2.06 2.06-.94-2.06-.94L8.5 2.5l-.94 2.06-2.06.94zm10 10l.94 2.06.94-2.06 2.06-.94-2.06-.94-.94-2.06-.94 2.06-2.06.94z\"/><path d=\"M17.41 7.96l-1.37-1.37c-.4-.4-.92-.59-1.43-.59-.52 0-1.04.2-1.43.59L10.3 9.45l-7.72 7.72c-.78.78-.78 2.05 0 2.83L4 21.41c.39.39.9.59 1.41.59.51 0 1.02-.2 1.41-.59l7.78-7.78 2.81-2.81c.8-.78.8-2.07 0-2.86zM5.41 20L4 18.59l7.72-7.72 1.47 1.35L5.41 20z\"/>\n",
              "  </svg>\n",
              "      </button>\n",
              "      \n",
              "  <style>\n",
              "    .colab-df-container {\n",
              "      display:flex;\n",
              "      flex-wrap:wrap;\n",
              "      gap: 12px;\n",
              "    }\n",
              "\n",
              "    .colab-df-convert {\n",
              "      background-color: #E8F0FE;\n",
              "      border: none;\n",
              "      border-radius: 50%;\n",
              "      cursor: pointer;\n",
              "      display: none;\n",
              "      fill: #1967D2;\n",
              "      height: 32px;\n",
              "      padding: 0 0 0 0;\n",
              "      width: 32px;\n",
              "    }\n",
              "\n",
              "    .colab-df-convert:hover {\n",
              "      background-color: #E2EBFA;\n",
              "      box-shadow: 0px 1px 2px rgba(60, 64, 67, 0.3), 0px 1px 3px 1px rgba(60, 64, 67, 0.15);\n",
              "      fill: #174EA6;\n",
              "    }\n",
              "\n",
              "    [theme=dark] .colab-df-convert {\n",
              "      background-color: #3B4455;\n",
              "      fill: #D2E3FC;\n",
              "    }\n",
              "\n",
              "    [theme=dark] .colab-df-convert:hover {\n",
              "      background-color: #434B5C;\n",
              "      box-shadow: 0px 1px 3px 1px rgba(0, 0, 0, 0.15);\n",
              "      filter: drop-shadow(0px 1px 2px rgba(0, 0, 0, 0.3));\n",
              "      fill: #FFFFFF;\n",
              "    }\n",
              "  </style>\n",
              "\n",
              "      <script>\n",
              "        const buttonEl =\n",
              "          document.querySelector('#df-08ef5f12-9a17-423b-bf81-e689477b84e4 button.colab-df-convert');\n",
              "        buttonEl.style.display =\n",
              "          google.colab.kernel.accessAllowed ? 'block' : 'none';\n",
              "\n",
              "        async function convertToInteractive(key) {\n",
              "          const element = document.querySelector('#df-08ef5f12-9a17-423b-bf81-e689477b84e4');\n",
              "          const dataTable =\n",
              "            await google.colab.kernel.invokeFunction('convertToInteractive',\n",
              "                                                     [key], {});\n",
              "          if (!dataTable) return;\n",
              "\n",
              "          const docLinkHtml = 'Like what you see? Visit the ' +\n",
              "            '<a target=\"_blank\" href=https://colab.research.google.com/notebooks/data_table.ipynb>data table notebook</a>'\n",
              "            + ' to learn more about interactive tables.';\n",
              "          element.innerHTML = '';\n",
              "          dataTable['output_type'] = 'display_data';\n",
              "          await google.colab.output.renderOutput(dataTable, element);\n",
              "          const docLink = document.createElement('div');\n",
              "          docLink.innerHTML = docLinkHtml;\n",
              "          element.appendChild(docLink);\n",
              "        }\n",
              "      </script>\n",
              "    </div>\n",
              "  </div>\n",
              "  "
            ],
            "text/plain": [
              "       POLICY_NUMBER       PREMIUM  NUMBER_OF_DRIVERS           NCD  \\\n",
              "count   9.020000e+04  90104.000000       90098.000000  90200.000000   \n",
              "mean    6.495698e+09    262.944152           1.601046      7.155067   \n",
              "std     1.866327e+05    142.601210           0.606839      2.683235   \n",
              "min     6.495186e+09     28.802259           1.000000      0.000000   \n",
              "25%     6.495545e+09    163.050237           1.000000      5.000000   \n",
              "50%     6.495715e+09    219.813922           2.000000      9.000000   \n",
              "75%     6.495843e+09    317.041031           2.000000      9.000000   \n",
              "max     6.496022e+09   2287.951049           7.000000      9.000000   \n",
              "\n",
              "       VEHICLE_VALUE   VEHICLE_AGE  VEHICLE_ANNUALMILEAGE  \\\n",
              "count   90200.000000  90200.000000           90200.000000   \n",
              "mean     5233.136282      9.796275            7057.624008   \n",
              "std      5018.882563      4.368040            3426.182359   \n",
              "min         0.000000      0.000000               0.000000   \n",
              "25%      1947.561151      7.000000            4985.951079   \n",
              "50%      3885.749063     10.000000            6973.253877   \n",
              "75%      6985.598131     13.000000            9973.989271   \n",
              "max     75014.190770     34.000000          128014.035124   \n",
              "\n",
              "       VEHICLE_OWNEDMONTHS       INCURRED  SEGMENT_1_FLAG  SEGMENT_2_FLAG  \\\n",
              "count         90200.000000   13539.000000    74749.000000    74700.000000   \n",
              "mean             50.043348    2130.809081        0.126236        0.036908   \n",
              "std              36.441472    6955.893205        0.332117        0.188536   \n",
              "min               0.000000    -211.627233        0.000000        0.000000   \n",
              "25%              24.000000      10.015530        0.000000        0.000000   \n",
              "50%              41.000000      96.941428        0.000000        0.000000   \n",
              "75%              67.000000    2078.086851        0.000000        0.000000   \n",
              "max             322.000000  275280.578552        1.000000        1.000000   \n",
              "\n",
              "       SEGMENT_3_FLAG  SEGMENT_4_FLAG  SEGMENT_5_FLAG  SEGMENT_6_FLAG  \\\n",
              "count    74754.000000    74729.000000    74709.000000    74742.000000   \n",
              "mean         0.019103        0.018360        0.051774        0.088531   \n",
              "std          0.136887        0.134249        0.221572        0.284068   \n",
              "min          0.000000        0.000000        0.000000        0.000000   \n",
              "25%          0.000000        0.000000        0.000000        0.000000   \n",
              "50%          0.000000        0.000000        0.000000        0.000000   \n",
              "75%          0.000000        0.000000        0.000000        0.000000   \n",
              "max          1.000000        1.000000        1.000000        1.000000   \n",
              "\n",
              "                Age  \n",
              "count  90171.000000  \n",
              "mean      47.455180  \n",
              "std       14.693523  \n",
              "min       17.000000  \n",
              "25%       36.000000  \n",
              "50%       47.000000  \n",
              "75%       58.000000  \n",
              "max       89.000000  "
            ]
          },
          "execution_count": 8,
          "metadata": {},
          "output_type": "execute_result"
        }
      ],
      "source": [
        "# Check for numerical columns' descriptions\n",
        "df.iloc[:,:].describe()"
      ]
    },
    {
      "cell_type": "markdown",
      "metadata": {
        "id": "AyTK-t-nBGi2"
      },
      "source": [
        "`VEHICLE_VALUE` and `VEHICLE_ANNUALMILEAGE` seem to have some undesired values."
      ]
    },
    {
      "cell_type": "code",
      "execution_count": 9,
      "metadata": {
        "colab": {
          "base_uri": "https://localhost:8080/"
        },
        "id": "k0cd3xgvZl27",
        "outputId": "519e2488-0bc0-4ee8-e220-3920b05a6a0b"
      },
      "outputs": [
        {
          "data": {
            "text/plain": [
              "51657     0.000000\n",
              "71175     0.000000\n",
              "51656     0.891725\n",
              "79887     3.052507\n",
              "78176     9.256327\n",
              "87718    19.492191\n",
              "57904    35.456487\n",
              "57067    46.251744\n",
              "39363    84.846754\n",
              "81068    89.450420\n",
              "Name: VEHICLE_VALUE, dtype: float64"
            ]
          },
          "execution_count": 9,
          "metadata": {},
          "output_type": "execute_result"
        }
      ],
      "source": [
        "# Display the 10 smallest values under 'VEHICLE_VALUE'\n",
        "df['VEHICLE_VALUE'].nsmallest(n=10)"
      ]
    },
    {
      "cell_type": "markdown",
      "metadata": {
        "id": "GsKu6-QFBudw"
      },
      "source": [
        "Don't modify `VEHICLE_VALUE` due to lots of smaller, ambiguous numbers."
      ]
    },
    {
      "cell_type": "code",
      "execution_count": 10,
      "metadata": {
        "colab": {
          "base_uri": "https://localhost:8080/"
        },
        "id": "dorukT5FNqnm",
        "outputId": "27376858-b8a7-41fe-d83d-77a43d4b46d6"
      },
      "outputs": [
        {
          "data": {
            "text/plain": [
              "50609      0.000000\n",
              "63879    160.654575\n",
              "8431     181.367348\n",
              "64393    181.974535\n",
              "85208    185.719088\n",
              "Name: VEHICLE_ANNUALMILEAGE, dtype: float64"
            ]
          },
          "execution_count": 10,
          "metadata": {},
          "output_type": "execute_result"
        }
      ],
      "source": [
        "# Display the 5 smallest values under 'VEHICLE_ANNUALMILEAGE'\n",
        "df['VEHICLE_ANNUALMILEAGE'].nsmallest()"
      ]
    },
    {
      "cell_type": "markdown",
      "metadata": {
        "id": "Q0OSEb4sCaFJ"
      },
      "source": [
        "Remove the distinct, undesired zero value from `VEHICLE_ANNUALMILEAGE`."
      ]
    },
    {
      "cell_type": "code",
      "execution_count": 11,
      "metadata": {
        "id": "NsLQm70K8d4C"
      },
      "outputs": [],
      "source": [
        "# Remove the erroneous index value\n",
        "df = df.drop(index=50609)"
      ]
    },
    {
      "cell_type": "markdown",
      "metadata": {
        "id": "stP9VFztDDWA"
      },
      "source": [
        "Check for undesired values in the categorical columns."
      ]
    },
    {
      "cell_type": "code",
      "execution_count": 12,
      "metadata": {
        "colab": {
          "base_uri": "https://localhost:8080/"
        },
        "id": "bDJDOihnqiBd",
        "outputId": "adf97e63-08d4-4ce0-a0df-be7c9cc178cc"
      },
      "outputs": [
        {
          "name": "stdout",
          "output_type": "stream",
          "text": [
            "New Business    72215\n",
            "Renewal         15425\n",
            "Cancelled        2559\n",
            "Name: POLICY_STATUS, dtype: int64\n",
            "Married        42523\n",
            "Single         24974\n",
            "CommonLaw      12739\n",
            "Divorced        6915\n",
            "Widowed         2211\n",
            "Parthership      769\n",
            "None               1\n",
            "Name: MARITALSTATUS, dtype: int64\n",
            "Employed                          64971\n",
            "Retired                           11386\n",
            "Self Employed                      7422\n",
            "Household Duties                   3146\n",
            "In Full Or Part Time Education     1413\n",
            "Unemployed                         1146\n",
            "Not employed due to disability      560\n",
            "Independent Means                    69\n",
            "Voluntary Work                       28\n",
            "Unknown                               1\n",
            "Name: EMPLOYMENTTYPE, dtype: int64\n",
            "Social inc. Comm                              46797\n",
            "Social only                                   34793\n",
            "Business Use (PH)                              7104\n",
            "Business use (PH + Spouse / Civil Partner)     1058\n",
            "Business use by all drivers                     248\n",
            "Business use (spouse / Civil Parnter)           188\n",
            "unk                                               6\n",
            "None                                              4\n",
            "Unknown                                           1\n",
            "Name: VEHICLE_CLASSOFUSE, dtype: int64\n"
          ]
        }
      ],
      "source": [
        "# Count the values in the categorical columns\n",
        "print(df['POLICY_STATUS'].value_counts())\n",
        "print(df['MARITALSTATUS'].value_counts())\n",
        "print(df['EMPLOYMENTTYPE'].value_counts())\n",
        "print(df['VEHICLE_CLASSOFUSE'].value_counts())"
      ]
    },
    {
      "cell_type": "markdown",
      "metadata": {
        "id": "IvCrVNIpDJ4B"
      },
      "source": [
        "Remove 'None' from `MARITALSTATUS`; 'Unknown' from `EMPLOYMENTTYPE`; 'unk', 'None', & 'Unknown' from `VEHICLE_CLASSOFUSE`."
      ]
    },
    {
      "cell_type": "code",
      "execution_count": 13,
      "metadata": {
        "id": "srTzxdjRv2WD"
      },
      "outputs": [],
      "source": [
        "# Remove low-count categories\n",
        "df = df.loc[(df['MARITALSTATUS'] != 'None') &\n",
        "            (df['EMPLOYMENTTYPE'] != 'Unknown') &\n",
        "            (df['VEHICLE_CLASSOFUSE'] != 'unk') &\n",
        "            (df['VEHICLE_CLASSOFUSE'] != 'None') &\n",
        "            (df['VEHICLE_CLASSOFUSE'] != 'Unknown')]"
      ]
    },
    {
      "cell_type": "markdown",
      "metadata": {
        "id": "qlzqkaCN2G4n"
      },
      "source": [
        "## Data pre-processing"
      ]
    },
    {
      "cell_type": "markdown",
      "metadata": {
        "id": "FBIW44DQ2Oy-"
      },
      "source": [
        "### Data splitting\n",
        "Split the data into train and test sets using iterative stratification due to multi-label data."
      ]
    },
    {
      "cell_type": "code",
      "execution_count": 14,
      "metadata": {
        "id": "e105UGgYz8Yy"
      },
      "outputs": [],
      "source": [
        "# Divide the dataframe into independent and dependent variables\n",
        "X = df.drop(df.iloc[:,-8:-2], axis=1)\n",
        "y = df.iloc[:,-8:-2].fillna(0)\n",
        "\n",
        "# Split the dataset into train and test sets\n",
        "X_train, y_train, X_test, y_test = iterative_train_test_split(X.values, y.values, test_size = 0.2)"
      ]
    },
    {
      "cell_type": "markdown",
      "metadata": {
        "id": "ORIy3trZ2vOn"
      },
      "source": [
        "### Data formatting\n",
        "\n",
        "`iterative_train_test_split()` returns arrays instead of data frames after splitting. Convert each array back into data frame."
      ]
    },
    {
      "cell_type": "code",
      "execution_count": 15,
      "metadata": {
        "id": "rAgD_Ow_AeUX"
      },
      "outputs": [],
      "source": [
        "# Extract columns for X and y variables\n",
        "X_cols = df.drop(columns=df.columns[-8:-2]).columns\n",
        "y_cols = df.columns[-8:-2]"
      ]
    },
    {
      "cell_type": "code",
      "execution_count": 16,
      "metadata": {
        "id": "RmU1tJ8MDdbe"
      },
      "outputs": [],
      "source": [
        "# Function to convert X variable array to data frame\n",
        "def arr_to_dfx(arr):\n",
        "    return (pd.DataFrame(data=arr[0:,0:], index=[i for i in range(arr.shape[0])], columns=[X_cols[i] for i in range(len(X_cols))]))"
      ]
    },
    {
      "cell_type": "code",
      "execution_count": 17,
      "metadata": {
        "id": "fj_dwmbcESih"
      },
      "outputs": [],
      "source": [
        "# Function to convert y variable array to data frame\n",
        "def arr_to_dfy(arr):\n",
        "    return (pd.DataFrame(data=arr[0:,0:], index=[i for i in range(arr.shape[0])], columns=[y_cols[i] for i in range(len(y_cols))]))"
      ]
    },
    {
      "cell_type": "code",
      "execution_count": 18,
      "metadata": {
        "id": "hjbDbGTzEeNU"
      },
      "outputs": [],
      "source": [
        "# Convert arrays to data frames for each variable\n",
        "X_train = arr_to_dfx(X_train)\n",
        "y_train = arr_to_dfy(y_train)\n",
        "\n",
        "X_test = arr_to_dfx(X_test)\n",
        "y_test = arr_to_dfy(y_test)"
      ]
    },
    {
      "cell_type": "markdown",
      "metadata": {
        "id": "5uIJDp5n26QY"
      },
      "source": [
        "### One-hot encoding\n",
        "\n",
        "Apply one-hot encoder on categorical features. The parameter handle_unknown=\"ignore\" ensures that the model is robust during production as it ignores labels not seen in train set that are present in test set, thus avoiding any interruption during execution."
      ]
    },
    {
      "cell_type": "code",
      "execution_count": 19,
      "metadata": {
        "colab": {
          "base_uri": "https://localhost:8080/"
        },
        "id": "X_OIWWiT5jXd",
        "outputId": "9f1fd58f-3821-4d1d-9859-967fd7c41cc3"
      },
      "outputs": [
        {
          "data": {
            "text/plain": [
              "OneHotEncoder(handle_unknown='ignore')"
            ]
          },
          "execution_count": 19,
          "metadata": {},
          "output_type": "execute_result"
        }
      ],
      "source": [
        "# Use One-Hot Encoding to perform fitting for categorical features in the train data\n",
        "ohe = OneHotEncoder(handle_unknown=\"ignore\") # Ensure consistent results on unseen data\n",
        "ohe.fit(X_train[['POLICY_STATUS', 'MARITALSTATUS', 'EMPLOYMENTTYPE', 'VEHICLE_CLASSOFUSE']])"
      ]
    },
    {
      "cell_type": "markdown",
      "metadata": {
        "id": "yTgZAqzy297T"
      },
      "source": [
        "### Data cleaning\n",
        "\n",
        "Clean the datasets and apply one-hot encoder to train and test sets."
      ]
    },
    {
      "cell_type": "code",
      "execution_count": 20,
      "metadata": {
        "id": "39s4i5OY5guK"
      },
      "outputs": [],
      "source": [
        "# Create a function for pre-processing a dataframe\n",
        "def preprocess(dfr):\n",
        "    \n",
        "    dfr[['START_DATE','END_DATE']] = dfr[['START_DATE','END_DATE']].apply(pd.to_datetime) # Convert the dates to datetime format\n",
        "    dfr['Policy_duration'] = (dfr['END_DATE'] - dfr['START_DATE']).dt.days # Create 'Policy_duration' instead of using start and end dates\n",
        "    \n",
        "    subset = dfr[['POLICY_STATUS', 'MARITALSTATUS', 'EMPLOYMENTTYPE', 'VEHICLE_CLASSOFUSE']] # Create a subset of relevant categorical columns\n",
        "\n",
        "    feature_arr = ohe.transform(subset).toarray() # Transform the dataframe using one-hot encoding\n",
        "    feature_labels = ohe.get_feature_names_out() # Extract the encoded feature labels\n",
        "\n",
        "    features = pd.DataFrame(feature_arr, columns=feature_labels, index=subset.index) # Create a dataframe for feature array & labels post-encoding\n",
        "    dfr = pd.concat([dfr, features], axis=1) # Concat the (now) feature dataframe with the argument dataframe\n",
        "\n",
        "    dfr = dfr.drop(columns=['START_DATE', 'END_DATE', 'POLICY_NUMBER',\n",
        "                            'PAYMENTMETHOD', 'VEHICLE_ID', 'CUSTOMER_ID',\n",
        "                            'DATE_OF_BIRTH', 'DATE_OF_ACCIDENT', 'CLAIM_ID',\n",
        "                            'INCURRED', 'Age_group', 'POLICY_STATUS',\n",
        "                            'MARITALSTATUS', 'EMPLOYMENTTYPE', 'VEHICLE_CLASSOFUSE']) # Drop redundant columns\n",
        "    \n",
        "    return dfr # Return the pre-processed dataframe"
      ]
    },
    {
      "cell_type": "code",
      "execution_count": 21,
      "metadata": {
        "colab": {
          "base_uri": "https://localhost:8080/",
          "height": 334
        },
        "id": "FX91pFMyFQIm",
        "outputId": "0cac2669-8c2f-44a1-e5d5-aab1ee96637a"
      },
      "outputs": [
        {
          "data": {
            "text/html": [
              "\n",
              "  <div id=\"df-375d697f-e117-41f5-b1c5-0f2d4400d6e0\">\n",
              "    <div class=\"colab-df-container\">\n",
              "      <div>\n",
              "<style scoped>\n",
              "    .dataframe tbody tr th:only-of-type {\n",
              "        vertical-align: middle;\n",
              "    }\n",
              "\n",
              "    .dataframe tbody tr th {\n",
              "        vertical-align: top;\n",
              "    }\n",
              "\n",
              "    .dataframe thead th {\n",
              "        text-align: right;\n",
              "    }\n",
              "</style>\n",
              "<table border=\"1\" class=\"dataframe\">\n",
              "  <thead>\n",
              "    <tr style=\"text-align: right;\">\n",
              "      <th></th>\n",
              "      <th>PREMIUM</th>\n",
              "      <th>NUMBER_OF_DRIVERS</th>\n",
              "      <th>NCD</th>\n",
              "      <th>VEHICLE_VALUE</th>\n",
              "      <th>VEHICLE_AGE</th>\n",
              "      <th>VEHICLE_ANNUALMILEAGE</th>\n",
              "      <th>VEHICLE_OWNEDMONTHS</th>\n",
              "      <th>Age</th>\n",
              "      <th>Policy_duration</th>\n",
              "      <th>POLICY_STATUS_Cancelled</th>\n",
              "      <th>...</th>\n",
              "      <th>EMPLOYMENTTYPE_Retired</th>\n",
              "      <th>EMPLOYMENTTYPE_Self Employed</th>\n",
              "      <th>EMPLOYMENTTYPE_Unemployed</th>\n",
              "      <th>EMPLOYMENTTYPE_Voluntary Work</th>\n",
              "      <th>VEHICLE_CLASSOFUSE_Business Use (PH)</th>\n",
              "      <th>VEHICLE_CLASSOFUSE_Business use (PH + Spouse / Civil Partner)</th>\n",
              "      <th>VEHICLE_CLASSOFUSE_Business use (spouse / Civil Parnter)</th>\n",
              "      <th>VEHICLE_CLASSOFUSE_Business use by all drivers</th>\n",
              "      <th>VEHICLE_CLASSOFUSE_Social inc. Comm</th>\n",
              "      <th>VEHICLE_CLASSOFUSE_Social only</th>\n",
              "    </tr>\n",
              "  </thead>\n",
              "  <tbody>\n",
              "    <tr>\n",
              "      <th>0</th>\n",
              "      <td>370.401518</td>\n",
              "      <td>2.0</td>\n",
              "      <td>3.0</td>\n",
              "      <td>2776.289729</td>\n",
              "      <td>7.0</td>\n",
              "      <td>16995.324235</td>\n",
              "      <td>75.0</td>\n",
              "      <td>28.0</td>\n",
              "      <td>364.0</td>\n",
              "      <td>0.0</td>\n",
              "      <td>...</td>\n",
              "      <td>0.0</td>\n",
              "      <td>0.0</td>\n",
              "      <td>0.0</td>\n",
              "      <td>0.0</td>\n",
              "      <td>0.0</td>\n",
              "      <td>0.0</td>\n",
              "      <td>0.0</td>\n",
              "      <td>0.0</td>\n",
              "      <td>1.0</td>\n",
              "      <td>0.0</td>\n",
              "    </tr>\n",
              "    <tr>\n",
              "      <th>1</th>\n",
              "      <td>369.137312</td>\n",
              "      <td>2.0</td>\n",
              "      <td>2.0</td>\n",
              "      <td>2794.775294</td>\n",
              "      <td>6.0</td>\n",
              "      <td>16987.792596</td>\n",
              "      <td>63.0</td>\n",
              "      <td>28.0</td>\n",
              "      <td>365.0</td>\n",
              "      <td>0.0</td>\n",
              "      <td>...</td>\n",
              "      <td>0.0</td>\n",
              "      <td>0.0</td>\n",
              "      <td>0.0</td>\n",
              "      <td>0.0</td>\n",
              "      <td>0.0</td>\n",
              "      <td>0.0</td>\n",
              "      <td>0.0</td>\n",
              "      <td>0.0</td>\n",
              "      <td>1.0</td>\n",
              "      <td>0.0</td>\n",
              "    </tr>\n",
              "    <tr>\n",
              "      <th>2</th>\n",
              "      <td>142.969466</td>\n",
              "      <td>2.0</td>\n",
              "      <td>9.0</td>\n",
              "      <td>2038.564143</td>\n",
              "      <td>13.0</td>\n",
              "      <td>9956.736453</td>\n",
              "      <td>75.0</td>\n",
              "      <td>61.0</td>\n",
              "      <td>364.0</td>\n",
              "      <td>0.0</td>\n",
              "      <td>...</td>\n",
              "      <td>0.0</td>\n",
              "      <td>0.0</td>\n",
              "      <td>0.0</td>\n",
              "      <td>0.0</td>\n",
              "      <td>0.0</td>\n",
              "      <td>0.0</td>\n",
              "      <td>0.0</td>\n",
              "      <td>0.0</td>\n",
              "      <td>1.0</td>\n",
              "      <td>0.0</td>\n",
              "    </tr>\n",
              "    <tr>\n",
              "      <th>3</th>\n",
              "      <td>244.005751</td>\n",
              "      <td>1.0</td>\n",
              "      <td>8.0</td>\n",
              "      <td>1982.488540</td>\n",
              "      <td>11.0</td>\n",
              "      <td>10033.574414</td>\n",
              "      <td>25.0</td>\n",
              "      <td>34.0</td>\n",
              "      <td>364.0</td>\n",
              "      <td>0.0</td>\n",
              "      <td>...</td>\n",
              "      <td>0.0</td>\n",
              "      <td>0.0</td>\n",
              "      <td>0.0</td>\n",
              "      <td>0.0</td>\n",
              "      <td>0.0</td>\n",
              "      <td>0.0</td>\n",
              "      <td>0.0</td>\n",
              "      <td>0.0</td>\n",
              "      <td>1.0</td>\n",
              "      <td>0.0</td>\n",
              "    </tr>\n",
              "    <tr>\n",
              "      <th>4</th>\n",
              "      <td>412.400710</td>\n",
              "      <td>2.0</td>\n",
              "      <td>7.0</td>\n",
              "      <td>5013.587268</td>\n",
              "      <td>8.0</td>\n",
              "      <td>17972.106978</td>\n",
              "      <td>34.0</td>\n",
              "      <td>31.0</td>\n",
              "      <td>364.0</td>\n",
              "      <td>0.0</td>\n",
              "      <td>...</td>\n",
              "      <td>0.0</td>\n",
              "      <td>0.0</td>\n",
              "      <td>0.0</td>\n",
              "      <td>0.0</td>\n",
              "      <td>0.0</td>\n",
              "      <td>0.0</td>\n",
              "      <td>0.0</td>\n",
              "      <td>0.0</td>\n",
              "      <td>1.0</td>\n",
              "      <td>0.0</td>\n",
              "    </tr>\n",
              "  </tbody>\n",
              "</table>\n",
              "<p>5 rows × 33 columns</p>\n",
              "</div>\n",
              "      <button class=\"colab-df-convert\" onclick=\"convertToInteractive('df-375d697f-e117-41f5-b1c5-0f2d4400d6e0')\"\n",
              "              title=\"Convert this dataframe to an interactive table.\"\n",
              "              style=\"display:none;\">\n",
              "        \n",
              "  <svg xmlns=\"http://www.w3.org/2000/svg\" height=\"24px\"viewBox=\"0 0 24 24\"\n",
              "       width=\"24px\">\n",
              "    <path d=\"M0 0h24v24H0V0z\" fill=\"none\"/>\n",
              "    <path d=\"M18.56 5.44l.94 2.06.94-2.06 2.06-.94-2.06-.94-.94-2.06-.94 2.06-2.06.94zm-11 1L8.5 8.5l.94-2.06 2.06-.94-2.06-.94L8.5 2.5l-.94 2.06-2.06.94zm10 10l.94 2.06.94-2.06 2.06-.94-2.06-.94-.94-2.06-.94 2.06-2.06.94z\"/><path d=\"M17.41 7.96l-1.37-1.37c-.4-.4-.92-.59-1.43-.59-.52 0-1.04.2-1.43.59L10.3 9.45l-7.72 7.72c-.78.78-.78 2.05 0 2.83L4 21.41c.39.39.9.59 1.41.59.51 0 1.02-.2 1.41-.59l7.78-7.78 2.81-2.81c.8-.78.8-2.07 0-2.86zM5.41 20L4 18.59l7.72-7.72 1.47 1.35L5.41 20z\"/>\n",
              "  </svg>\n",
              "      </button>\n",
              "      \n",
              "  <style>\n",
              "    .colab-df-container {\n",
              "      display:flex;\n",
              "      flex-wrap:wrap;\n",
              "      gap: 12px;\n",
              "    }\n",
              "\n",
              "    .colab-df-convert {\n",
              "      background-color: #E8F0FE;\n",
              "      border: none;\n",
              "      border-radius: 50%;\n",
              "      cursor: pointer;\n",
              "      display: none;\n",
              "      fill: #1967D2;\n",
              "      height: 32px;\n",
              "      padding: 0 0 0 0;\n",
              "      width: 32px;\n",
              "    }\n",
              "\n",
              "    .colab-df-convert:hover {\n",
              "      background-color: #E2EBFA;\n",
              "      box-shadow: 0px 1px 2px rgba(60, 64, 67, 0.3), 0px 1px 3px 1px rgba(60, 64, 67, 0.15);\n",
              "      fill: #174EA6;\n",
              "    }\n",
              "\n",
              "    [theme=dark] .colab-df-convert {\n",
              "      background-color: #3B4455;\n",
              "      fill: #D2E3FC;\n",
              "    }\n",
              "\n",
              "    [theme=dark] .colab-df-convert:hover {\n",
              "      background-color: #434B5C;\n",
              "      box-shadow: 0px 1px 3px 1px rgba(0, 0, 0, 0.15);\n",
              "      filter: drop-shadow(0px 1px 2px rgba(0, 0, 0, 0.3));\n",
              "      fill: #FFFFFF;\n",
              "    }\n",
              "  </style>\n",
              "\n",
              "      <script>\n",
              "        const buttonEl =\n",
              "          document.querySelector('#df-375d697f-e117-41f5-b1c5-0f2d4400d6e0 button.colab-df-convert');\n",
              "        buttonEl.style.display =\n",
              "          google.colab.kernel.accessAllowed ? 'block' : 'none';\n",
              "\n",
              "        async function convertToInteractive(key) {\n",
              "          const element = document.querySelector('#df-375d697f-e117-41f5-b1c5-0f2d4400d6e0');\n",
              "          const dataTable =\n",
              "            await google.colab.kernel.invokeFunction('convertToInteractive',\n",
              "                                                     [key], {});\n",
              "          if (!dataTable) return;\n",
              "\n",
              "          const docLinkHtml = 'Like what you see? Visit the ' +\n",
              "            '<a target=\"_blank\" href=https://colab.research.google.com/notebooks/data_table.ipynb>data table notebook</a>'\n",
              "            + ' to learn more about interactive tables.';\n",
              "          element.innerHTML = '';\n",
              "          dataTable['output_type'] = 'display_data';\n",
              "          await google.colab.output.renderOutput(dataTable, element);\n",
              "          const docLink = document.createElement('div');\n",
              "          docLink.innerHTML = docLinkHtml;\n",
              "          element.appendChild(docLink);\n",
              "        }\n",
              "      </script>\n",
              "    </div>\n",
              "  </div>\n",
              "  "
            ],
            "text/plain": [
              "      PREMIUM  NUMBER_OF_DRIVERS  NCD  VEHICLE_VALUE  VEHICLE_AGE  \\\n",
              "0  370.401518                2.0  3.0    2776.289729          7.0   \n",
              "1  369.137312                2.0  2.0    2794.775294          6.0   \n",
              "2  142.969466                2.0  9.0    2038.564143         13.0   \n",
              "3  244.005751                1.0  8.0    1982.488540         11.0   \n",
              "4  412.400710                2.0  7.0    5013.587268          8.0   \n",
              "\n",
              "   VEHICLE_ANNUALMILEAGE  VEHICLE_OWNEDMONTHS   Age  Policy_duration  \\\n",
              "0           16995.324235                 75.0  28.0            364.0   \n",
              "1           16987.792596                 63.0  28.0            365.0   \n",
              "2            9956.736453                 75.0  61.0            364.0   \n",
              "3           10033.574414                 25.0  34.0            364.0   \n",
              "4           17972.106978                 34.0  31.0            364.0   \n",
              "\n",
              "   POLICY_STATUS_Cancelled  ...  EMPLOYMENTTYPE_Retired  \\\n",
              "0                      0.0  ...                     0.0   \n",
              "1                      0.0  ...                     0.0   \n",
              "2                      0.0  ...                     0.0   \n",
              "3                      0.0  ...                     0.0   \n",
              "4                      0.0  ...                     0.0   \n",
              "\n",
              "   EMPLOYMENTTYPE_Self Employed  EMPLOYMENTTYPE_Unemployed  \\\n",
              "0                           0.0                        0.0   \n",
              "1                           0.0                        0.0   \n",
              "2                           0.0                        0.0   \n",
              "3                           0.0                        0.0   \n",
              "4                           0.0                        0.0   \n",
              "\n",
              "   EMPLOYMENTTYPE_Voluntary Work  VEHICLE_CLASSOFUSE_Business Use (PH)  \\\n",
              "0                            0.0                                   0.0   \n",
              "1                            0.0                                   0.0   \n",
              "2                            0.0                                   0.0   \n",
              "3                            0.0                                   0.0   \n",
              "4                            0.0                                   0.0   \n",
              "\n",
              "   VEHICLE_CLASSOFUSE_Business use (PH + Spouse / Civil Partner)  \\\n",
              "0                                                0.0               \n",
              "1                                                0.0               \n",
              "2                                                0.0               \n",
              "3                                                0.0               \n",
              "4                                                0.0               \n",
              "\n",
              "   VEHICLE_CLASSOFUSE_Business use (spouse / Civil Parnter)  \\\n",
              "0                                                0.0          \n",
              "1                                                0.0          \n",
              "2                                                0.0          \n",
              "3                                                0.0          \n",
              "4                                                0.0          \n",
              "\n",
              "   VEHICLE_CLASSOFUSE_Business use by all drivers  \\\n",
              "0                                             0.0   \n",
              "1                                             0.0   \n",
              "2                                             0.0   \n",
              "3                                             0.0   \n",
              "4                                             0.0   \n",
              "\n",
              "   VEHICLE_CLASSOFUSE_Social inc. Comm  VEHICLE_CLASSOFUSE_Social only  \n",
              "0                                  1.0                             0.0  \n",
              "1                                  1.0                             0.0  \n",
              "2                                  1.0                             0.0  \n",
              "3                                  1.0                             0.0  \n",
              "4                                  1.0                             0.0  \n",
              "\n",
              "[5 rows x 33 columns]"
            ]
          },
          "execution_count": 21,
          "metadata": {},
          "output_type": "execute_result"
        }
      ],
      "source": [
        "# Encode and pre-process the train set\n",
        "X_train = preprocess(X_train).astype(float).drop(columns=['MARITALSTATUS_nan', 'EMPLOYMENTTYPE_nan'])\n",
        "X_train.head()"
      ]
    },
    {
      "cell_type": "code",
      "execution_count": 22,
      "metadata": {
        "id": "aU5z6hVYF18W"
      },
      "outputs": [],
      "source": [
        "# Encode and pre-process the test set\n",
        "X_test = preprocess(X_test).astype(float).drop(columns=['MARITALSTATUS_nan', 'EMPLOYMENTTYPE_nan'])"
      ]
    },
    {
      "cell_type": "markdown",
      "metadata": {
        "id": "jsWZ8nISFJab"
      },
      "source": [
        "This procedure efficiently handled NaNs without having to remove all of them individually. Remove null values from the remaining columns."
      ]
    },
    {
      "cell_type": "code",
      "execution_count": 23,
      "metadata": {
        "colab": {
          "base_uri": "https://localhost:8080/"
        },
        "id": "EnjZIJl4SMKJ",
        "outputId": "64994b0e-859d-44cd-857f-a220be7cba57"
      },
      "outputs": [
        {
          "data": {
            "text/plain": [
              "PREMIUM                                                          78\n",
              "NUMBER_OF_DRIVERS                                                81\n",
              "NCD                                                               0\n",
              "VEHICLE_VALUE                                                     0\n",
              "VEHICLE_AGE                                                       0\n",
              "VEHICLE_ANNUALMILEAGE                                             0\n",
              "VEHICLE_OWNEDMONTHS                                               0\n",
              "Age                                                              25\n",
              "Policy_duration                                                   0\n",
              "POLICY_STATUS_Cancelled                                           0\n",
              "POLICY_STATUS_New Business                                        0\n",
              "POLICY_STATUS_Renewal                                             0\n",
              "MARITALSTATUS_CommonLaw                                           0\n",
              "MARITALSTATUS_Divorced                                            0\n",
              "MARITALSTATUS_Married                                             0\n",
              "MARITALSTATUS_Parthership                                         0\n",
              "MARITALSTATUS_Single                                              0\n",
              "MARITALSTATUS_Widowed                                             0\n",
              "EMPLOYMENTTYPE_Employed                                           0\n",
              "EMPLOYMENTTYPE_Household Duties                                   0\n",
              "EMPLOYMENTTYPE_In Full Or Part Time Education                     0\n",
              "EMPLOYMENTTYPE_Independent Means                                  0\n",
              "EMPLOYMENTTYPE_Not employed due to disability                     0\n",
              "EMPLOYMENTTYPE_Retired                                            0\n",
              "EMPLOYMENTTYPE_Self Employed                                      0\n",
              "EMPLOYMENTTYPE_Unemployed                                         0\n",
              "EMPLOYMENTTYPE_Voluntary Work                                     0\n",
              "VEHICLE_CLASSOFUSE_Business Use (PH)                              0\n",
              "VEHICLE_CLASSOFUSE_Business use (PH + Spouse / Civil Partner)     0\n",
              "VEHICLE_CLASSOFUSE_Business use (spouse / Civil Parnter)          0\n",
              "VEHICLE_CLASSOFUSE_Business use by all drivers                    0\n",
              "VEHICLE_CLASSOFUSE_Social inc. Comm                               0\n",
              "VEHICLE_CLASSOFUSE_Social only                                    0\n",
              "dtype: int64"
            ]
          },
          "execution_count": 23,
          "metadata": {},
          "output_type": "execute_result"
        }
      ],
      "source": [
        "# Check for null value counts again\n",
        "X_train.isna().sum()"
      ]
    },
    {
      "cell_type": "code",
      "execution_count": 24,
      "metadata": {
        "id": "zNR0HoldSpLj"
      },
      "outputs": [],
      "source": [
        "# Drop NAs after join X and y variables for train and test sets separately\n",
        "train_joined = X_train.join(y_train).dropna()\n",
        "test_joined = X_test.join(y_test).dropna()"
      ]
    },
    {
      "cell_type": "code",
      "execution_count": 25,
      "metadata": {
        "id": "9eytXLnTTeg4"
      },
      "outputs": [],
      "source": [
        "# Split into X and y variables for train and test sets again\n",
        "X_train = train_joined.iloc[:, :-6]\n",
        "y_train = train_joined.iloc[:, -6:]\n",
        "\n",
        "X_test = test_joined.iloc[:, :-6]\n",
        "y_test = test_joined.iloc[:, -6:]"
      ]
    },
    {
      "cell_type": "markdown",
      "metadata": {
        "id": "WB4rZ6Pb4F5R"
      },
      "source": [
        "## Model development\n",
        "\n",
        "Use `DecisionTreeClassifier()` for modelling."
      ]
    },
    {
      "cell_type": "markdown",
      "metadata": {
        "id": "1IMDGeSA4NeR"
      },
      "source": [
        "### Hyper-parameter tuning\n",
        "Use `RandomizedSearchCV()` with a grid of parameters to find the optimal hyper-parameters for the model. The parameter error_score=0 ensures that fitting during cross-validation is uninterrupted."
      ]
    },
    {
      "cell_type": "code",
      "execution_count": 26,
      "metadata": {
        "colab": {
          "base_uri": "https://localhost:8080/"
        },
        "id": "OeLyP29ND_3A",
        "outputId": "d63209c0-8dfb-4542-b485-12ab0e11ac10"
      },
      "outputs": [
        {
          "name": "stdout",
          "output_type": "stream",
          "text": [
            "Fitting 5 folds for each of 10 candidates, totalling 50 fits\n",
            "{'splitter': 'best', 'max_leaf_nodes': 37, 'max_features': 'sqrt', 'max_depth': 6, 'criterion': 'entropy'}\n"
          ]
        }
      ],
      "source": [
        "# Instantiate Decision Tree Classifier\n",
        "dtc = DecisionTreeClassifier(random_state=18)\n",
        "\n",
        "# Define a grid of parameters\n",
        "param_grid = {\n",
        "    'criterion': ['gini', 'entropy'],\n",
        "    'splitter': ['best', 'random'],\n",
        "    'max_depth': [*range(2, 10, 1)],\n",
        "    'max_leaf_nodes': [*range(1, 100, 2)],\n",
        "    'max_features': ['auto', 'sqrt', 'log2']\n",
        "}\n",
        "\n",
        "# Use Randomized Search with 5 fold cross-validation to find optimal hyper-parameters\n",
        "CV_model_dt = RandomizedSearchCV(estimator=dtc, param_distributions=param_grid, cv=5, error_score=0, verbose=1, random_state=18)\n",
        "CV_model_dt.fit(X_train, y_train)\n",
        "\n",
        "# Print the optimal hyperparameters after randomized search cross-validation\n",
        "print(CV_model_dt.best_params_)"
      ]
    },
    {
      "cell_type": "markdown",
      "metadata": {
        "id": "tcPZQyt9GD0m"
      },
      "source": [
        "Display all the fits and the best estimator."
      ]
    },
    {
      "cell_type": "code",
      "execution_count": 27,
      "metadata": {
        "colab": {
          "base_uri": "https://localhost:8080/",
          "height": 826
        },
        "id": "XjjMCG5ZD_x9",
        "outputId": "e7d80bdd-40b9-4e8e-d7b4-abd4a3d20d5c"
      },
      "outputs": [
        {
          "data": {
            "text/html": [
              "\n",
              "  <div id=\"df-7cf920bd-efce-4500-b05c-a766bc44ed26\">\n",
              "    <div class=\"colab-df-container\">\n",
              "      <div>\n",
              "<style scoped>\n",
              "    .dataframe tbody tr th:only-of-type {\n",
              "        vertical-align: middle;\n",
              "    }\n",
              "\n",
              "    .dataframe tbody tr th {\n",
              "        vertical-align: top;\n",
              "    }\n",
              "\n",
              "    .dataframe thead th {\n",
              "        text-align: right;\n",
              "    }\n",
              "</style>\n",
              "<table border=\"1\" class=\"dataframe\">\n",
              "  <thead>\n",
              "    <tr style=\"text-align: right;\">\n",
              "      <th></th>\n",
              "      <th>mean_fit_time</th>\n",
              "      <th>std_fit_time</th>\n",
              "      <th>mean_score_time</th>\n",
              "      <th>std_score_time</th>\n",
              "      <th>param_splitter</th>\n",
              "      <th>param_max_leaf_nodes</th>\n",
              "      <th>param_max_features</th>\n",
              "      <th>param_max_depth</th>\n",
              "      <th>param_criterion</th>\n",
              "      <th>params</th>\n",
              "      <th>split0_test_score</th>\n",
              "      <th>split1_test_score</th>\n",
              "      <th>split2_test_score</th>\n",
              "      <th>split3_test_score</th>\n",
              "      <th>split4_test_score</th>\n",
              "      <th>mean_test_score</th>\n",
              "      <th>std_test_score</th>\n",
              "      <th>rank_test_score</th>\n",
              "    </tr>\n",
              "  </thead>\n",
              "  <tbody>\n",
              "    <tr>\n",
              "      <th>0</th>\n",
              "      <td>0.367681</td>\n",
              "      <td>0.046219</td>\n",
              "      <td>0.028667</td>\n",
              "      <td>0.009176</td>\n",
              "      <td>best</td>\n",
              "      <td>71</td>\n",
              "      <td>auto</td>\n",
              "      <td>5</td>\n",
              "      <td>entropy</td>\n",
              "      <td>{'splitter': 'best', 'max_leaf_nodes': 71, 'ma...</td>\n",
              "      <td>0.870493</td>\n",
              "      <td>0.869937</td>\n",
              "      <td>0.804071</td>\n",
              "      <td>0.644549</td>\n",
              "      <td>0.557771</td>\n",
              "      <td>0.749364</td>\n",
              "      <td>0.126409</td>\n",
              "      <td>3</td>\n",
              "    </tr>\n",
              "    <tr>\n",
              "      <th>1</th>\n",
              "      <td>0.176008</td>\n",
              "      <td>0.016944</td>\n",
              "      <td>0.032131</td>\n",
              "      <td>0.008925</td>\n",
              "      <td>random</td>\n",
              "      <td>71</td>\n",
              "      <td>sqrt</td>\n",
              "      <td>8</td>\n",
              "      <td>entropy</td>\n",
              "      <td>{'splitter': 'random', 'max_leaf_nodes': 71, '...</td>\n",
              "      <td>0.869728</td>\n",
              "      <td>0.866254</td>\n",
              "      <td>0.800667</td>\n",
              "      <td>0.645453</td>\n",
              "      <td>0.557771</td>\n",
              "      <td>0.747975</td>\n",
              "      <td>0.125123</td>\n",
              "      <td>9</td>\n",
              "    </tr>\n",
              "    <tr>\n",
              "      <th>2</th>\n",
              "      <td>0.209871</td>\n",
              "      <td>0.042149</td>\n",
              "      <td>0.031897</td>\n",
              "      <td>0.012441</td>\n",
              "      <td>best</td>\n",
              "      <td>45</td>\n",
              "      <td>log2</td>\n",
              "      <td>5</td>\n",
              "      <td>gini</td>\n",
              "      <td>{'splitter': 'best', 'max_leaf_nodes': 45, 'ma...</td>\n",
              "      <td>0.870493</td>\n",
              "      <td>0.869937</td>\n",
              "      <td>0.804002</td>\n",
              "      <td>0.644549</td>\n",
              "      <td>0.557771</td>\n",
              "      <td>0.749350</td>\n",
              "      <td>0.126403</td>\n",
              "      <td>7</td>\n",
              "    </tr>\n",
              "    <tr>\n",
              "      <th>3</th>\n",
              "      <td>0.187285</td>\n",
              "      <td>0.046654</td>\n",
              "      <td>0.040091</td>\n",
              "      <td>0.015273</td>\n",
              "      <td>random</td>\n",
              "      <td>85</td>\n",
              "      <td>sqrt</td>\n",
              "      <td>3</td>\n",
              "      <td>entropy</td>\n",
              "      <td>{'splitter': 'random', 'max_leaf_nodes': 85, '...</td>\n",
              "      <td>0.870493</td>\n",
              "      <td>0.869937</td>\n",
              "      <td>0.804071</td>\n",
              "      <td>0.644549</td>\n",
              "      <td>0.557771</td>\n",
              "      <td>0.749364</td>\n",
              "      <td>0.126409</td>\n",
              "      <td>3</td>\n",
              "    </tr>\n",
              "    <tr>\n",
              "      <th>4</th>\n",
              "      <td>0.306880</td>\n",
              "      <td>0.105495</td>\n",
              "      <td>0.043266</td>\n",
              "      <td>0.013668</td>\n",
              "      <td>best</td>\n",
              "      <td>27</td>\n",
              "      <td>log2</td>\n",
              "      <td>7</td>\n",
              "      <td>gini</td>\n",
              "      <td>{'splitter': 'best', 'max_leaf_nodes': 27, 'ma...</td>\n",
              "      <td>0.870493</td>\n",
              "      <td>0.869937</td>\n",
              "      <td>0.804071</td>\n",
              "      <td>0.644549</td>\n",
              "      <td>0.557771</td>\n",
              "      <td>0.749364</td>\n",
              "      <td>0.126409</td>\n",
              "      <td>3</td>\n",
              "    </tr>\n",
              "    <tr>\n",
              "      <th>5</th>\n",
              "      <td>0.400188</td>\n",
              "      <td>0.136147</td>\n",
              "      <td>0.051427</td>\n",
              "      <td>0.019754</td>\n",
              "      <td>best</td>\n",
              "      <td>91</td>\n",
              "      <td>sqrt</td>\n",
              "      <td>9</td>\n",
              "      <td>gini</td>\n",
              "      <td>{'splitter': 'best', 'max_leaf_nodes': 91, 'ma...</td>\n",
              "      <td>0.864517</td>\n",
              "      <td>0.865977</td>\n",
              "      <td>0.802057</td>\n",
              "      <td>0.643785</td>\n",
              "      <td>0.557424</td>\n",
              "      <td>0.746752</td>\n",
              "      <td>0.124571</td>\n",
              "      <td>10</td>\n",
              "    </tr>\n",
              "    <tr>\n",
              "      <th>6</th>\n",
              "      <td>0.514779</td>\n",
              "      <td>0.097950</td>\n",
              "      <td>0.036911</td>\n",
              "      <td>0.018234</td>\n",
              "      <td>best</td>\n",
              "      <td>75</td>\n",
              "      <td>sqrt</td>\n",
              "      <td>9</td>\n",
              "      <td>entropy</td>\n",
              "      <td>{'splitter': 'best', 'max_leaf_nodes': 75, 'ma...</td>\n",
              "      <td>0.859793</td>\n",
              "      <td>0.857014</td>\n",
              "      <td>0.802473</td>\n",
              "      <td>0.662405</td>\n",
              "      <td>0.582227</td>\n",
              "      <td>0.752783</td>\n",
              "      <td>0.111393</td>\n",
              "      <td>2</td>\n",
              "    </tr>\n",
              "    <tr>\n",
              "      <th>7</th>\n",
              "      <td>0.303599</td>\n",
              "      <td>0.093786</td>\n",
              "      <td>0.043985</td>\n",
              "      <td>0.016579</td>\n",
              "      <td>best</td>\n",
              "      <td>13</td>\n",
              "      <td>log2</td>\n",
              "      <td>9</td>\n",
              "      <td>gini</td>\n",
              "      <td>{'splitter': 'best', 'max_leaf_nodes': 13, 'ma...</td>\n",
              "      <td>0.870493</td>\n",
              "      <td>0.869937</td>\n",
              "      <td>0.804071</td>\n",
              "      <td>0.644549</td>\n",
              "      <td>0.557771</td>\n",
              "      <td>0.749364</td>\n",
              "      <td>0.126409</td>\n",
              "      <td>3</td>\n",
              "    </tr>\n",
              "    <tr>\n",
              "      <th>8</th>\n",
              "      <td>0.420458</td>\n",
              "      <td>0.047537</td>\n",
              "      <td>0.043443</td>\n",
              "      <td>0.023885</td>\n",
              "      <td>best</td>\n",
              "      <td>37</td>\n",
              "      <td>sqrt</td>\n",
              "      <td>6</td>\n",
              "      <td>entropy</td>\n",
              "      <td>{'splitter': 'best', 'max_leaf_nodes': 37, 'ma...</td>\n",
              "      <td>0.870493</td>\n",
              "      <td>0.869937</td>\n",
              "      <td>0.804071</td>\n",
              "      <td>0.666644</td>\n",
              "      <td>0.557771</td>\n",
              "      <td>0.753783</td>\n",
              "      <td>0.123009</td>\n",
              "      <td>1</td>\n",
              "    </tr>\n",
              "    <tr>\n",
              "      <th>9</th>\n",
              "      <td>0.162242</td>\n",
              "      <td>0.029325</td>\n",
              "      <td>0.046848</td>\n",
              "      <td>0.021117</td>\n",
              "      <td>random</td>\n",
              "      <td>13</td>\n",
              "      <td>auto</td>\n",
              "      <td>5</td>\n",
              "      <td>gini</td>\n",
              "      <td>{'splitter': 'random', 'max_leaf_nodes': 13, '...</td>\n",
              "      <td>0.870493</td>\n",
              "      <td>0.869937</td>\n",
              "      <td>0.798374</td>\n",
              "      <td>0.644549</td>\n",
              "      <td>0.557771</td>\n",
              "      <td>0.748225</td>\n",
              "      <td>0.125936</td>\n",
              "      <td>8</td>\n",
              "    </tr>\n",
              "  </tbody>\n",
              "</table>\n",
              "</div>\n",
              "      <button class=\"colab-df-convert\" onclick=\"convertToInteractive('df-7cf920bd-efce-4500-b05c-a766bc44ed26')\"\n",
              "              title=\"Convert this dataframe to an interactive table.\"\n",
              "              style=\"display:none;\">\n",
              "        \n",
              "  <svg xmlns=\"http://www.w3.org/2000/svg\" height=\"24px\"viewBox=\"0 0 24 24\"\n",
              "       width=\"24px\">\n",
              "    <path d=\"M0 0h24v24H0V0z\" fill=\"none\"/>\n",
              "    <path d=\"M18.56 5.44l.94 2.06.94-2.06 2.06-.94-2.06-.94-.94-2.06-.94 2.06-2.06.94zm-11 1L8.5 8.5l.94-2.06 2.06-.94-2.06-.94L8.5 2.5l-.94 2.06-2.06.94zm10 10l.94 2.06.94-2.06 2.06-.94-2.06-.94-.94-2.06-.94 2.06-2.06.94z\"/><path d=\"M17.41 7.96l-1.37-1.37c-.4-.4-.92-.59-1.43-.59-.52 0-1.04.2-1.43.59L10.3 9.45l-7.72 7.72c-.78.78-.78 2.05 0 2.83L4 21.41c.39.39.9.59 1.41.59.51 0 1.02-.2 1.41-.59l7.78-7.78 2.81-2.81c.8-.78.8-2.07 0-2.86zM5.41 20L4 18.59l7.72-7.72 1.47 1.35L5.41 20z\"/>\n",
              "  </svg>\n",
              "      </button>\n",
              "      \n",
              "  <style>\n",
              "    .colab-df-container {\n",
              "      display:flex;\n",
              "      flex-wrap:wrap;\n",
              "      gap: 12px;\n",
              "    }\n",
              "\n",
              "    .colab-df-convert {\n",
              "      background-color: #E8F0FE;\n",
              "      border: none;\n",
              "      border-radius: 50%;\n",
              "      cursor: pointer;\n",
              "      display: none;\n",
              "      fill: #1967D2;\n",
              "      height: 32px;\n",
              "      padding: 0 0 0 0;\n",
              "      width: 32px;\n",
              "    }\n",
              "\n",
              "    .colab-df-convert:hover {\n",
              "      background-color: #E2EBFA;\n",
              "      box-shadow: 0px 1px 2px rgba(60, 64, 67, 0.3), 0px 1px 3px 1px rgba(60, 64, 67, 0.15);\n",
              "      fill: #174EA6;\n",
              "    }\n",
              "\n",
              "    [theme=dark] .colab-df-convert {\n",
              "      background-color: #3B4455;\n",
              "      fill: #D2E3FC;\n",
              "    }\n",
              "\n",
              "    [theme=dark] .colab-df-convert:hover {\n",
              "      background-color: #434B5C;\n",
              "      box-shadow: 0px 1px 3px 1px rgba(0, 0, 0, 0.15);\n",
              "      filter: drop-shadow(0px 1px 2px rgba(0, 0, 0, 0.3));\n",
              "      fill: #FFFFFF;\n",
              "    }\n",
              "  </style>\n",
              "\n",
              "      <script>\n",
              "        const buttonEl =\n",
              "          document.querySelector('#df-7cf920bd-efce-4500-b05c-a766bc44ed26 button.colab-df-convert');\n",
              "        buttonEl.style.display =\n",
              "          google.colab.kernel.accessAllowed ? 'block' : 'none';\n",
              "\n",
              "        async function convertToInteractive(key) {\n",
              "          const element = document.querySelector('#df-7cf920bd-efce-4500-b05c-a766bc44ed26');\n",
              "          const dataTable =\n",
              "            await google.colab.kernel.invokeFunction('convertToInteractive',\n",
              "                                                     [key], {});\n",
              "          if (!dataTable) return;\n",
              "\n",
              "          const docLinkHtml = 'Like what you see? Visit the ' +\n",
              "            '<a target=\"_blank\" href=https://colab.research.google.com/notebooks/data_table.ipynb>data table notebook</a>'\n",
              "            + ' to learn more about interactive tables.';\n",
              "          element.innerHTML = '';\n",
              "          dataTable['output_type'] = 'display_data';\n",
              "          await google.colab.output.renderOutput(dataTable, element);\n",
              "          const docLink = document.createElement('div');\n",
              "          docLink.innerHTML = docLinkHtml;\n",
              "          element.appendChild(docLink);\n",
              "        }\n",
              "      </script>\n",
              "    </div>\n",
              "  </div>\n",
              "  "
            ],
            "text/plain": [
              "   mean_fit_time  std_fit_time  mean_score_time  std_score_time  \\\n",
              "0       0.367681      0.046219         0.028667        0.009176   \n",
              "1       0.176008      0.016944         0.032131        0.008925   \n",
              "2       0.209871      0.042149         0.031897        0.012441   \n",
              "3       0.187285      0.046654         0.040091        0.015273   \n",
              "4       0.306880      0.105495         0.043266        0.013668   \n",
              "5       0.400188      0.136147         0.051427        0.019754   \n",
              "6       0.514779      0.097950         0.036911        0.018234   \n",
              "7       0.303599      0.093786         0.043985        0.016579   \n",
              "8       0.420458      0.047537         0.043443        0.023885   \n",
              "9       0.162242      0.029325         0.046848        0.021117   \n",
              "\n",
              "  param_splitter param_max_leaf_nodes param_max_features param_max_depth  \\\n",
              "0           best                   71               auto               5   \n",
              "1         random                   71               sqrt               8   \n",
              "2           best                   45               log2               5   \n",
              "3         random                   85               sqrt               3   \n",
              "4           best                   27               log2               7   \n",
              "5           best                   91               sqrt               9   \n",
              "6           best                   75               sqrt               9   \n",
              "7           best                   13               log2               9   \n",
              "8           best                   37               sqrt               6   \n",
              "9         random                   13               auto               5   \n",
              "\n",
              "  param_criterion                                             params  \\\n",
              "0         entropy  {'splitter': 'best', 'max_leaf_nodes': 71, 'ma...   \n",
              "1         entropy  {'splitter': 'random', 'max_leaf_nodes': 71, '...   \n",
              "2            gini  {'splitter': 'best', 'max_leaf_nodes': 45, 'ma...   \n",
              "3         entropy  {'splitter': 'random', 'max_leaf_nodes': 85, '...   \n",
              "4            gini  {'splitter': 'best', 'max_leaf_nodes': 27, 'ma...   \n",
              "5            gini  {'splitter': 'best', 'max_leaf_nodes': 91, 'ma...   \n",
              "6         entropy  {'splitter': 'best', 'max_leaf_nodes': 75, 'ma...   \n",
              "7            gini  {'splitter': 'best', 'max_leaf_nodes': 13, 'ma...   \n",
              "8         entropy  {'splitter': 'best', 'max_leaf_nodes': 37, 'ma...   \n",
              "9            gini  {'splitter': 'random', 'max_leaf_nodes': 13, '...   \n",
              "\n",
              "   split0_test_score  split1_test_score  split2_test_score  split3_test_score  \\\n",
              "0           0.870493           0.869937           0.804071           0.644549   \n",
              "1           0.869728           0.866254           0.800667           0.645453   \n",
              "2           0.870493           0.869937           0.804002           0.644549   \n",
              "3           0.870493           0.869937           0.804071           0.644549   \n",
              "4           0.870493           0.869937           0.804071           0.644549   \n",
              "5           0.864517           0.865977           0.802057           0.643785   \n",
              "6           0.859793           0.857014           0.802473           0.662405   \n",
              "7           0.870493           0.869937           0.804071           0.644549   \n",
              "8           0.870493           0.869937           0.804071           0.666644   \n",
              "9           0.870493           0.869937           0.798374           0.644549   \n",
              "\n",
              "   split4_test_score  mean_test_score  std_test_score  rank_test_score  \n",
              "0           0.557771         0.749364        0.126409                3  \n",
              "1           0.557771         0.747975        0.125123                9  \n",
              "2           0.557771         0.749350        0.126403                7  \n",
              "3           0.557771         0.749364        0.126409                3  \n",
              "4           0.557771         0.749364        0.126409                3  \n",
              "5           0.557424         0.746752        0.124571               10  \n",
              "6           0.582227         0.752783        0.111393                2  \n",
              "7           0.557771         0.749364        0.126409                3  \n",
              "8           0.557771         0.753783        0.123009                1  \n",
              "9           0.557771         0.748225        0.125936                8  "
            ]
          },
          "execution_count": 27,
          "metadata": {},
          "output_type": "execute_result"
        }
      ],
      "source": [
        "# Display the fits/results from cross validation\n",
        "pd.DataFrame.from_dict(CV_model_dt.cv_results_)"
      ]
    },
    {
      "cell_type": "code",
      "execution_count": 28,
      "metadata": {
        "colab": {
          "base_uri": "https://localhost:8080/"
        },
        "id": "HTrOVGM2D_wo",
        "outputId": "f5701cf2-0e13-4dac-d645-489a29034a05"
      },
      "outputs": [
        {
          "data": {
            "text/plain": [
              "DecisionTreeClassifier(criterion='entropy', max_depth=6, max_features='sqrt',\n",
              "                       max_leaf_nodes=37, random_state=18)"
            ]
          },
          "execution_count": 28,
          "metadata": {},
          "output_type": "execute_result"
        }
      ],
      "source": [
        "# Print the best estimator that gave the highest score/minimum loss\n",
        "CV_model_dt.best_estimator_"
      ]
    },
    {
      "cell_type": "code",
      "execution_count": 29,
      "metadata": {
        "id": "bsz0HNJJUwhl"
      },
      "outputs": [],
      "source": [
        "# Define and fit the model with the optimal parameters\n",
        "clf = CV_model_dt.best_estimator_\n",
        "clf.fit(X_train, y_train)\n",
        "y_pred = clf.predict(X_test)"
      ]
    },
    {
      "cell_type": "markdown",
      "metadata": {
        "id": "7B8r3_WB4bHo"
      },
      "source": [
        "### Feature importance\n",
        "\n",
        "Display top 10 features for the classifier."
      ]
    },
    {
      "cell_type": "code",
      "execution_count": 30,
      "metadata": {
        "colab": {
          "base_uri": "https://localhost:8080/",
          "height": 498
        },
        "id": "XM8erWQCSyVM",
        "outputId": "800e5fea-5c9d-4d62-c865-c021b7710283"
      },
      "outputs": [
        {
          "data": {
            "text/plain": [
              "<matplotlib.axes._subplots.AxesSubplot at 0x7f6df5ac23d0>"
            ]
          },
          "execution_count": 30,
          "metadata": {},
          "output_type": "execute_result"
        },
        {
          "data": {
            "image/png": "[encoded data removed]",
            "text/plain": [
              "<Figure size 1584x576 with 1 Axes>"
            ]
          },
          "metadata": {
            "needs_background": "light"
          },
          "output_type": "display_data"
        }
      ],
      "source": [
        "plt.rcParams[\"figure.figsize\"] = (22,8)\n",
        "feat_importances = pd.Series(clf.feature_importances_, index=X_train.columns)\n",
        "feat_importances.nlargest(10).plot(kind='barh')"
      ]
    },
    {
      "cell_type": "markdown",
      "metadata": {
        "id": "Sdzd9CciGXMb"
      },
      "source": [
        "Display feature importance for all the features. More than half the features seem to not have contributed anything."
      ]
    },
    {
      "cell_type": "code",
      "execution_count": 31,
      "metadata": {
        "colab": {
          "base_uri": "https://localhost:8080/",
          "height": 452
        },
        "id": "nVQUWZomVhJp",
        "outputId": "ab297990-3115-498c-8f57-74d9dc0b3ecc"
      },
      "outputs": [
        {
          "data": {
            "text/plain": [
              "<matplotlib.axes._subplots.AxesSubplot at 0x7f6df55cb5d0>"
            ]
          },
          "execution_count": 31,
          "metadata": {},
          "output_type": "execute_result"
        },
        {
          "data": {
            "image/png": "[encoded data removed]",
            "text/plain": [
              "<Figure size 1584x576 with 1 Axes>"
            ]
          },
          "metadata": {
            "needs_background": "light"
          },
          "output_type": "display_data"
        }
      ],
      "source": [
        "feat_importances = pd.Series(clf.feature_importances_, index=X_train.columns)\n",
        "feat_importances.nlargest(33).plot(kind='barh')"
      ]
    },
    {
      "cell_type": "markdown",
      "metadata": {
        "id": "wSJutUFP4gEW"
      },
      "source": [
        "## Metric evaluation\n",
        "The metrics used are:\n",
        "* Zero-one loss (average)\n",
        "* Hamming loss (average) and per segment\n",
        "* Exact match ratio per segment\n",
        "* Multilabel confusion matrix\n",
        "* Predicted probabilities"
      ]
    },
    {
      "cell_type": "markdown",
      "metadata": {
        "id": "K-i8Q_o2bcOM"
      },
      "source": [
        "**Zero-one loss**\n",
        "\n",
        "Zero-one loss returns the fraction of misclassifications. The best performance is 0. In multilabel classification, the `zero_one_loss()` function corresponds to the subset zero-one loss: for each sample, the entire set of labels must be correctly predicted, otherwise the loss for that sample is equal to one."
      ]
    },
    {
      "cell_type": "code",
      "execution_count": 32,
      "metadata": {
        "colab": {
          "base_uri": "https://localhost:8080/"
        },
        "id": "Fhm9mirmZtv8",
        "outputId": "40252342-8150-43ec-e128-a38bf2ec79ab"
      },
      "outputs": [
        {
          "data": {
            "text/plain": [
              "0.2505556790397866"
            ]
          },
          "execution_count": 32,
          "metadata": {},
          "output_type": "execute_result"
        }
      ],
      "source": [
        "# Compute the zero-one classification loss\n",
        "zero_one_loss(y_test, y_pred)"
      ]
    },
    {
      "cell_type": "markdown",
      "metadata": {
        "id": "-06ZFd4nbXIv"
      },
      "source": [
        "**Hamming loss**\n",
        "\n",
        "The Hamming loss is the fraction of labels that are incorrectly predicted. In multilabel classification, the Hamming loss is different from the subset zero-one loss. The zero-one loss considers the entire set of labels for a given sample incorrect if it does not entirely match the true set of labels. Hamming loss is more forgiving in that it penalizes only the individual labels. It is always between 0 and 1, lower being better."
      ]
    },
    {
      "cell_type": "code",
      "execution_count": 33,
      "metadata": {
        "colab": {
          "base_uri": "https://localhost:8080/"
        },
        "id": "c04HnCjHZYN8",
        "outputId": "44e66f8e-bc55-4efd-d45b-95abbb085495"
      },
      "outputs": [
        {
          "data": {
            "text/plain": [
              "0.0470474920352671"
            ]
          },
          "execution_count": 33,
          "metadata": {},
          "output_type": "execute_result"
        }
      ],
      "source": [
        "# Compute the average Hamming loss\n",
        "hamming_loss(y_test, y_pred)"
      ]
    },
    {
      "cell_type": "markdown",
      "metadata": {
        "id": "iWvOZ_C356e2"
      },
      "source": [
        "**Exact Match Ratio and Hamming Loss for each segment using OneVsRestClassifier as a wrapper class**\n",
        "\n",
        "With the use of model pipeline, decompose this multi-label task into multiple independent binary classification problems (one per category). Using \"one vs rest\" strategy, build multiple independent classifiers and, for each unseen instance, display the desired metrics."
      ]
    },
    {
      "cell_type": "code",
      "execution_count": 34,
      "metadata": {
        "colab": {
          "base_uri": "https://localhost:8080/"
        },
        "id": "FpfnoIxFpdYU",
        "outputId": "64b91bb9-3411-41a5-8ba5-fd0ea553188c"
      },
      "outputs": [
        {
          "name": "stdout",
          "output_type": "stream",
          "text": [
            "SEGMENT_1_FLAG:\n",
            "Exact Match Ratio: 0.8954767726161369\n",
            "Hamming Loss: 0.10452322738386308\n",
            "\n",
            "SEGMENT_2_FLAG:\n",
            "Exact Match Ratio: 0.9695487886196933\n",
            "Hamming Loss: 0.030451211380306736\n",
            "\n",
            "SEGMENT_3_FLAG:\n",
            "Exact Match Ratio: 0.98421871527006\n",
            "Hamming Loss: 0.015781284729939987\n",
            "\n",
            "SEGMENT_4_FLAG:\n",
            "Exact Match Ratio: 0.9848299622138253\n",
            "Hamming Loss: 0.015170037786174706\n",
            "\n",
            "SEGMENT_5_FLAG:\n",
            "Exact Match Ratio: 0.957101578128473\n",
            "Hamming Loss: 0.04289842187152701\n",
            "\n",
            "SEGMENT_6_FLAG:\n",
            "Exact Match Ratio: 0.9265947988441876\n",
            "Hamming Loss: 0.07340520115581241\n",
            "\n"
          ]
        }
      ],
      "source": [
        "# Using pipeline to apply decision tree classifier with one vs rest classifier as a wrapper\n",
        "dt_pipeline = Pipeline([('clf', OneVsRestClassifier(clf, n_jobs=-1))])\n",
        "\n",
        "# Loop over each segment\n",
        "for category in y_train.columns:\n",
        "    print('{}:'.format(category))\n",
        "    \n",
        "    # Fit the model to the data\n",
        "    dt_pipeline.fit(X_train, y_train[category])\n",
        "    \n",
        "    # Calculate and display metrics\n",
        "    dt_pred = dt_pipeline.predict(X_test)\n",
        "\n",
        "    print('Exact Match Ratio: {}'.format(accuracy_score(y_test[category], dt_pred)))\n",
        "    print('Hamming Loss: {}\\n'.format(hamming_loss(y_test[category], dt_pred)))"
      ]
    },
    {
      "cell_type": "markdown",
      "metadata": {
        "id": "U5BOQ-LM6HAd"
      },
      "source": [
        "### Confusion matrix\n",
        "\n",
        "Display a multi-label confusion matrix as the model seems to suffer from overfitting when the metrics are computed individually for each segment."
      ]
    },
    {
      "cell_type": "code",
      "execution_count": 35,
      "metadata": {
        "colab": {
          "base_uri": "https://localhost:8080/"
        },
        "id": "sVoQxDmEmC6I",
        "outputId": "0b62e605-4f17-45aa-d7b3-d7ee7194e7a9"
      },
      "outputs": [
        {
          "data": {
            "text/plain": [
              "array([[[15019,  1095],\n",
              "        [  935,   947]],\n",
              "\n",
              "       [[16932,   516],\n",
              "        [  451,    97]],\n",
              "\n",
              "       [[17413,   299],\n",
              "        [  238,    46]],\n",
              "\n",
              "       [[17516,   207],\n",
              "        [  152,   121]],\n",
              "\n",
              "       [[16488,   736],\n",
              "        [  625,   147]],\n",
              "\n",
              "       [[15638,  1037],\n",
              "        [  842,   479]]])"
            ]
          },
          "execution_count": 35,
          "metadata": {},
          "output_type": "execute_result"
        }
      ],
      "source": [
        "# Use Multi-Output Classifier wrapper with Decision Tree Classifier to get predictions\n",
        "clfr = MultiOutputClassifier(dtc)\n",
        "clfr.fit(X_train, y_train)\n",
        "pred = clfr.predict(X_test)\n",
        "\n",
        "# Compute and display the multi-label confusion matrix\n",
        "multilabel_confusion_matrix(y_test, pred)"
      ]
    },
    {
      "cell_type": "markdown",
      "metadata": {
        "id": "VHoBJ7Ew6J34"
      },
      "source": [
        "### Predicted probabilities\n",
        "\n",
        "Display the probability of a customer belonging to each segment and compare the results with the ground truth."
      ]
    },
    {
      "cell_type": "code",
      "execution_count": 36,
      "metadata": {
        "colab": {
          "base_uri": "https://localhost:8080/"
        },
        "id": "40meOixizE3h",
        "outputId": "59dd893b-5098-46c3-fd76-991be46b967b"
      },
      "outputs": [
        {
          "data": {
            "text/plain": [
              "array([[1.02616727e-02, 4.82846252e-03, 2.51694095e-02, 0.00000000e+00,\n",
              "        2.17272104e-01, 3.41064526e-01],\n",
              "       [2.02447731e-01, 1.51553423e-02, 2.57756563e-02, 2.76803119e-01,\n",
              "        0.00000000e+00, 1.20528771e-02],\n",
              "       [5.84022039e-02, 3.31142255e-02, 0.00000000e+00, 3.25203252e-04,\n",
              "        1.81323663e-03, 2.22353988e-03],\n",
              "       ...,\n",
              "       [1.53723161e-01, 2.58038904e-02, 2.74641440e-03, 7.01630050e-02,\n",
              "        2.85795942e-04, 1.66181969e-03],\n",
              "       [6.35593220e-03, 4.82846252e-03, 9.93640700e-04, 0.00000000e+00,\n",
              "        1.61490683e-01, 3.37209302e-01],\n",
              "       [3.57873211e-02, 5.47173241e-02, 2.53091981e-02, 1.59489633e-03,\n",
              "        0.00000000e+00, 4.25481622e-03]])"
            ]
          },
          "execution_count": 36,
          "metadata": {},
          "output_type": "execute_result"
        }
      ],
      "source": [
        "# Use One vs Rest Classifier wrapper with Decision Tree Classifier to get predicted probabilities for each segment\n",
        "clf_prob = OneVsRestClassifier(clf)\n",
        "clf_prob.fit(X_train, y_train)\n",
        "prob = clf_prob.predict_proba(X_test)\n",
        "prob"
      ]
    },
    {
      "cell_type": "code",
      "execution_count": 37,
      "metadata": {
        "colab": {
          "base_uri": "https://localhost:8080/",
          "height": 424
        },
        "id": "V5LYH0rWwKnl",
        "outputId": "a98351d9-234e-47f6-c7ee-cdaa031850c6"
      },
      "outputs": [
        {
          "data": {
            "text/html": [
              "\n",
              "  <div id=\"df-1d47340f-5e48-4f5f-9d52-6dc4a0b42efb\">\n",
              "    <div class=\"colab-df-container\">\n",
              "      <div>\n",
              "<style scoped>\n",
              "    .dataframe tbody tr th:only-of-type {\n",
              "        vertical-align: middle;\n",
              "    }\n",
              "\n",
              "    .dataframe tbody tr th {\n",
              "        vertical-align: top;\n",
              "    }\n",
              "\n",
              "    .dataframe thead th {\n",
              "        text-align: right;\n",
              "    }\n",
              "</style>\n",
              "<table border=\"1\" class=\"dataframe\">\n",
              "  <thead>\n",
              "    <tr style=\"text-align: right;\">\n",
              "      <th></th>\n",
              "      <th>SEGMENT_1_FLAG</th>\n",
              "      <th>SEGMENT_2_FLAG</th>\n",
              "      <th>SEGMENT_3_FLAG</th>\n",
              "      <th>SEGMENT_4_FLAG</th>\n",
              "      <th>SEGMENT_5_FLAG</th>\n",
              "      <th>SEGMENT_6_FLAG</th>\n",
              "    </tr>\n",
              "  </thead>\n",
              "  <tbody>\n",
              "    <tr>\n",
              "      <th>0</th>\n",
              "      <td>0.0</td>\n",
              "      <td>0.0</td>\n",
              "      <td>0.0</td>\n",
              "      <td>0.0</td>\n",
              "      <td>0.0</td>\n",
              "      <td>1.0</td>\n",
              "    </tr>\n",
              "    <tr>\n",
              "      <th>1</th>\n",
              "      <td>0.0</td>\n",
              "      <td>0.0</td>\n",
              "      <td>1.0</td>\n",
              "      <td>1.0</td>\n",
              "      <td>0.0</td>\n",
              "      <td>0.0</td>\n",
              "    </tr>\n",
              "    <tr>\n",
              "      <th>2</th>\n",
              "      <td>1.0</td>\n",
              "      <td>0.0</td>\n",
              "      <td>0.0</td>\n",
              "      <td>0.0</td>\n",
              "      <td>0.0</td>\n",
              "      <td>0.0</td>\n",
              "    </tr>\n",
              "    <tr>\n",
              "      <th>3</th>\n",
              "      <td>1.0</td>\n",
              "      <td>0.0</td>\n",
              "      <td>0.0</td>\n",
              "      <td>0.0</td>\n",
              "      <td>0.0</td>\n",
              "      <td>0.0</td>\n",
              "    </tr>\n",
              "    <tr>\n",
              "      <th>4</th>\n",
              "      <td>0.0</td>\n",
              "      <td>0.0</td>\n",
              "      <td>0.0</td>\n",
              "      <td>1.0</td>\n",
              "      <td>0.0</td>\n",
              "      <td>0.0</td>\n",
              "    </tr>\n",
              "    <tr>\n",
              "      <th>...</th>\n",
              "      <td>...</td>\n",
              "      <td>...</td>\n",
              "      <td>...</td>\n",
              "      <td>...</td>\n",
              "      <td>...</td>\n",
              "      <td>...</td>\n",
              "    </tr>\n",
              "    <tr>\n",
              "      <th>18033</th>\n",
              "      <td>0.0</td>\n",
              "      <td>0.0</td>\n",
              "      <td>0.0</td>\n",
              "      <td>0.0</td>\n",
              "      <td>0.0</td>\n",
              "      <td>0.0</td>\n",
              "    </tr>\n",
              "    <tr>\n",
              "      <th>18034</th>\n",
              "      <td>0.0</td>\n",
              "      <td>0.0</td>\n",
              "      <td>0.0</td>\n",
              "      <td>0.0</td>\n",
              "      <td>0.0</td>\n",
              "      <td>0.0</td>\n",
              "    </tr>\n",
              "    <tr>\n",
              "      <th>18035</th>\n",
              "      <td>0.0</td>\n",
              "      <td>0.0</td>\n",
              "      <td>0.0</td>\n",
              "      <td>0.0</td>\n",
              "      <td>0.0</td>\n",
              "      <td>0.0</td>\n",
              "    </tr>\n",
              "    <tr>\n",
              "      <th>18036</th>\n",
              "      <td>0.0</td>\n",
              "      <td>0.0</td>\n",
              "      <td>0.0</td>\n",
              "      <td>0.0</td>\n",
              "      <td>0.0</td>\n",
              "      <td>0.0</td>\n",
              "    </tr>\n",
              "    <tr>\n",
              "      <th>18037</th>\n",
              "      <td>0.0</td>\n",
              "      <td>0.0</td>\n",
              "      <td>0.0</td>\n",
              "      <td>0.0</td>\n",
              "      <td>0.0</td>\n",
              "      <td>0.0</td>\n",
              "    </tr>\n",
              "  </tbody>\n",
              "</table>\n",
              "<p>17996 rows × 6 columns</p>\n",
              "</div>\n",
              "      <button class=\"colab-df-convert\" onclick=\"convertToInteractive('df-1d47340f-5e48-4f5f-9d52-6dc4a0b42efb')\"\n",
              "              title=\"Convert this dataframe to an interactive table.\"\n",
              "              style=\"display:none;\">\n",
              "        \n",
              "  <svg xmlns=\"http://www.w3.org/2000/svg\" height=\"24px\"viewBox=\"0 0 24 24\"\n",
              "       width=\"24px\">\n",
              "    <path d=\"M0 0h24v24H0V0z\" fill=\"none\"/>\n",
              "    <path d=\"M18.56 5.44l.94 2.06.94-2.06 2.06-.94-2.06-.94-.94-2.06-.94 2.06-2.06.94zm-11 1L8.5 8.5l.94-2.06 2.06-.94-2.06-.94L8.5 2.5l-.94 2.06-2.06.94zm10 10l.94 2.06.94-2.06 2.06-.94-2.06-.94-.94-2.06-.94 2.06-2.06.94z\"/><path d=\"M17.41 7.96l-1.37-1.37c-.4-.4-.92-.59-1.43-.59-.52 0-1.04.2-1.43.59L10.3 9.45l-7.72 7.72c-.78.78-.78 2.05 0 2.83L4 21.41c.39.39.9.59 1.41.59.51 0 1.02-.2 1.41-.59l7.78-7.78 2.81-2.81c.8-.78.8-2.07 0-2.86zM5.41 20L4 18.59l7.72-7.72 1.47 1.35L5.41 20z\"/>\n",
              "  </svg>\n",
              "      </button>\n",
              "      \n",
              "  <style>\n",
              "    .colab-df-container {\n",
              "      display:flex;\n",
              "      flex-wrap:wrap;\n",
              "      gap: 12px;\n",
              "    }\n",
              "\n",
              "    .colab-df-convert {\n",
              "      background-color: #E8F0FE;\n",
              "      border: none;\n",
              "      border-radius: 50%;\n",
              "      cursor: pointer;\n",
              "      display: none;\n",
              "      fill: #1967D2;\n",
              "      height: 32px;\n",
              "      padding: 0 0 0 0;\n",
              "      width: 32px;\n",
              "    }\n",
              "\n",
              "    .colab-df-convert:hover {\n",
              "      background-color: #E2EBFA;\n",
              "      box-shadow: 0px 1px 2px rgba(60, 64, 67, 0.3), 0px 1px 3px 1px rgba(60, 64, 67, 0.15);\n",
              "      fill: #174EA6;\n",
              "    }\n",
              "\n",
              "    [theme=dark] .colab-df-convert {\n",
              "      background-color: #3B4455;\n",
              "      fill: #D2E3FC;\n",
              "    }\n",
              "\n",
              "    [theme=dark] .colab-df-convert:hover {\n",
              "      background-color: #434B5C;\n",
              "      box-shadow: 0px 1px 3px 1px rgba(0, 0, 0, 0.15);\n",
              "      filter: drop-shadow(0px 1px 2px rgba(0, 0, 0, 0.3));\n",
              "      fill: #FFFFFF;\n",
              "    }\n",
              "  </style>\n",
              "\n",
              "      <script>\n",
              "        const buttonEl =\n",
              "          document.querySelector('#df-1d47340f-5e48-4f5f-9d52-6dc4a0b42efb button.colab-df-convert');\n",
              "        buttonEl.style.display =\n",
              "          google.colab.kernel.accessAllowed ? 'block' : 'none';\n",
              "\n",
              "        async function convertToInteractive(key) {\n",
              "          const element = document.querySelector('#df-1d47340f-5e48-4f5f-9d52-6dc4a0b42efb');\n",
              "          const dataTable =\n",
              "            await google.colab.kernel.invokeFunction('convertToInteractive',\n",
              "                                                     [key], {});\n",
              "          if (!dataTable) return;\n",
              "\n",
              "          const docLinkHtml = 'Like what you see? Visit the ' +\n",
              "            '<a target=\"_blank\" href=https://colab.research.google.com/notebooks/data_table.ipynb>data table notebook</a>'\n",
              "            + ' to learn more about interactive tables.';\n",
              "          element.innerHTML = '';\n",
              "          dataTable['output_type'] = 'display_data';\n",
              "          await google.colab.output.renderOutput(dataTable, element);\n",
              "          const docLink = document.createElement('div');\n",
              "          docLink.innerHTML = docLinkHtml;\n",
              "          element.appendChild(docLink);\n",
              "        }\n",
              "      </script>\n",
              "    </div>\n",
              "  </div>\n",
              "  "
            ],
            "text/plain": [
              "       SEGMENT_1_FLAG  SEGMENT_2_FLAG  SEGMENT_3_FLAG  SEGMENT_4_FLAG  \\\n",
              "0                 0.0             0.0             0.0             0.0   \n",
              "1                 0.0             0.0             1.0             1.0   \n",
              "2                 1.0             0.0             0.0             0.0   \n",
              "3                 1.0             0.0             0.0             0.0   \n",
              "4                 0.0             0.0             0.0             1.0   \n",
              "...               ...             ...             ...             ...   \n",
              "18033             0.0             0.0             0.0             0.0   \n",
              "18034             0.0             0.0             0.0             0.0   \n",
              "18035             0.0             0.0             0.0             0.0   \n",
              "18036             0.0             0.0             0.0             0.0   \n",
              "18037             0.0             0.0             0.0             0.0   \n",
              "\n",
              "       SEGMENT_5_FLAG  SEGMENT_6_FLAG  \n",
              "0                 0.0             1.0  \n",
              "1                 0.0             0.0  \n",
              "2                 0.0             0.0  \n",
              "3                 0.0             0.0  \n",
              "4                 0.0             0.0  \n",
              "...               ...             ...  \n",
              "18033             0.0             0.0  \n",
              "18034             0.0             0.0  \n",
              "18035             0.0             0.0  \n",
              "18036             0.0             0.0  \n",
              "18037             0.0             0.0  \n",
              "\n",
              "[17996 rows x 6 columns]"
            ]
          },
          "execution_count": 37,
          "metadata": {},
          "output_type": "execute_result"
        }
      ],
      "source": [
        "# Compare the predicted probabilities with true predictions\n",
        "y_test"
      ]
    },
    {
      "cell_type": "markdown",
      "metadata": {
        "id": "DRHlUDKR8mKN"
      },
      "source": [
        "## Claim Frequency per segment\n",
        "\n",
        "Compute Claim Frequency for each segment using the original data frame (erroneous values removed)."
      ]
    },
    {
      "cell_type": "code",
      "execution_count": 38,
      "metadata": {
        "colab": {
          "base_uri": "https://localhost:8080/"
        },
        "id": "Pi31x8Qv8kmH",
        "outputId": "709c22ee-b074-4bed-f640-aa00e1a5d990"
      },
      "outputs": [
        {
          "name": "stdout",
          "output_type": "stream",
          "text": [
            "Claim Freq. for SEGMENT_1: 13.47 % \n",
            "\n",
            "Claim Freq. for SEGMENT_2: 13.67 % \n",
            "\n",
            "Claim Freq. for SEGMENT_3: 13.80 % \n",
            "\n",
            "Claim Freq. for SEGMENT_4: 15.09 % \n",
            "\n",
            "Claim Freq. for SEGMENT_5: 11.97 % \n",
            "\n",
            "Claim Freq. for SEGMENT_6: 12.14 % \n",
            "\n"
          ]
        }
      ],
      "source": [
        "# Extract relevant columns from the initial joined data frame\n",
        "cfreq = df[['CLAIM_ID', 'POLICY_NUMBER', 'SEGMENT_1_FLAG', 'SEGMENT_2_FLAG', 'SEGMENT_3_FLAG', 'SEGMENT_4_FLAG', 'SEGMENT_5_FLAG', 'SEGMENT_6_FLAG']]\n",
        "\n",
        "# Iterate over each segment and compute their respective Claim Frequency percentages\n",
        "for i in cfreq.columns[2:]:\n",
        "    seg = cfreq[cfreq[i]==1]\n",
        "    print(\"Claim Freq. for \" + i[:-5] + \": {:0.2f} % \\n\".format(((seg['CLAIM_ID'].count()/seg['POLICY_NUMBER'].count()) * 100).round(2)))"
      ]
    }
  ],
  "metadata": {
    "colab": {
      "collapsed_sections": [],
      "name": "task_2.ipynb",
      "provenance": []
    },
    "kernelspec": {
      "display_name": "Python 3",
      "name": "python3"
    },
    "language_info": {
      "name": "python"
    }
  },
  "nbformat": 4,
  "nbformat_minor": 0
}
